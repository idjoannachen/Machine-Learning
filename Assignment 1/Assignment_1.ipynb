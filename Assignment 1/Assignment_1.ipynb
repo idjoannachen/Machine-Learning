{
  "nbformat": 4,
  "nbformat_minor": 0,
  "metadata": {
    "kernelspec": {
      "display_name": "Python 3",
      "language": "python",
      "name": "python3"
    },
    "language_info": {
      "codemirror_mode": {
        "name": "ipython",
        "version": 3
      },
      "file_extension": ".py",
      "mimetype": "text/x-python",
      "name": "python",
      "nbconvert_exporter": "python",
      "pygments_lexer": "ipython3",
      "version": "3.7.4"
    },
    "colab": {
      "name": "Assignment_1.ipynb",
      "provenance": [],
      "collapsed_sections": [],
      "toc_visible": true
    }
  },
  "cells": [
    {
      "cell_type": "markdown",
      "metadata": {
        "id": "PvmpMBJgxf3j",
        "colab_type": "text"
      },
      "source": [
        "# Statistics and Data Science 365/565\n",
        "## Due September, 15 11:59pm"
      ]
    },
    {
      "cell_type": "code",
      "metadata": {
        "id": "bITRpRwgxf4F",
        "colab_type": "code",
        "colab": {
          "base_uri": "https://localhost:8080/",
          "height": 49
        },
        "outputId": "da51929e-4063-43f9-be27-646b2b96d7f2"
      },
      "source": [
        "netid = \"wc549\"\n",
        "name = \"Joanna Chen\"\n",
        "print(netid)\n",
        "print(name)"
      ],
      "execution_count": 1,
      "outputs": [
        {
          "output_type": "stream",
          "text": [
            "wc549\n",
            "Joanna Chen\n"
          ],
          "name": "stdout"
        }
      ]
    },
    {
      "cell_type": "code",
      "metadata": {
        "id": "5LrVuA0mxf5i",
        "colab_type": "code",
        "colab": {}
      },
      "source": [
        "assert not netid == \"xxx\""
      ],
      "execution_count": 2,
      "outputs": []
    },
    {
      "cell_type": "code",
      "metadata": {
        "id": "-DFKWOdWxf5z",
        "colab_type": "code",
        "colab": {}
      },
      "source": [
        "collaborators = \"None\""
      ],
      "execution_count": 3,
      "outputs": []
    },
    {
      "cell_type": "code",
      "metadata": {
        "id": "FF-4rKmTxf58",
        "colab_type": "code",
        "colab": {}
      },
      "source": [
        "import pandas as pd\n",
        "import numpy as np"
      ],
      "execution_count": 4,
      "outputs": []
    },
    {
      "cell_type": "markdown",
      "metadata": {
        "id": "pS_YdaqExf6G",
        "colab_type": "raw"
      },
      "source": [
        "\\newcommand{\\trans}{{\\scriptstyle T}}\n",
        "\\newcommand{\\reals}{\\mathbb R}\n",
        "\\newcommand{\\argmin}{\\mathop{\\rm arg\\,min}}\n",
        "\\let\\hat\\widehat"
      ]
    },
    {
      "cell_type": "markdown",
      "metadata": {
        "id": "Ve1Wh_RDxf6K",
        "colab_type": "text"
      },
      "source": [
        "Fill in your solutions in the notebook `Assignment 1.ipynb` and submit the results to gradescope."
      ]
    },
    {
      "cell_type": "markdown",
      "metadata": {
        "id": "-V87uI6Ixf6N",
        "colab_type": "text"
      },
      "source": [
        "Make sure that all python cells run and do not have errors. The cell below has an error. Please fix it."
      ]
    },
    {
      "cell_type": "code",
      "metadata": {
        "id": "TUa1Pvr_xf6N",
        "colab_type": "code",
        "colab": {}
      },
      "source": [
        "# assert 1==0 #this is a python cell \n",
        "# fixed version\n",
        "assert 0==0 #this is a python cell \n",
        "assert 1==1 #this is a python cell "
      ],
      "execution_count": 5,
      "outputs": []
    },
    {
      "cell_type": "markdown",
      "metadata": {
        "id": "-cfuZeHjxf6S",
        "colab_type": "text"
      },
      "source": [
        "Python cells are like the one above that have an `In [number]` in front of them. Markdown cells are just text cells like this one."
      ]
    },
    {
      "cell_type": "markdown",
      "metadata": {
        "id": "xNT3b_A4xf8a",
        "colab_type": "text"
      },
      "source": [
        "This homework explores linear regression and gives you a chance to practice using python."
      ]
    },
    {
      "cell_type": "markdown",
      "metadata": {
        "id": "bn_OyBj3xf8m",
        "colab_type": "text"
      },
      "source": [
        "# Problem 0: Two views on the average (mean) (10 pts)\n",
        "\n",
        "Suppose we have a collection of real numbers, $y_1,...,y_n \\in \\mathbb{R}$. We would like to find a summary of those numbers."
      ]
    },
    {
      "cell_type": "markdown",
      "metadata": {
        "id": "UEZAMJp8xf8n",
        "colab_type": "text"
      },
      "source": [
        "## View 1. Error perspective\n",
        "Let's find one number $\\hat{\\mu}$ that approximates the rest of the $y_i$ well. One idea is to find such a number that minimizes the residual sum of squares. That is\n",
        "\n",
        "$$\n",
        "\\hat{\\mu} = \\arg \\min_\\mu \\sum_{i=1}^n (y_i - \\mu)^2\n",
        "$$"
      ]
    },
    {
      "cell_type": "markdown",
      "metadata": {
        "id": "MQiMxTZ5xf8q",
        "colab_type": "text"
      },
      "source": [
        "We can define the function $f(\\mu) = \\sum_{i=1}^n (y_i - \\mu)^2$. We want to find the $\\mu$ that minimizes $f(\\mu)$. We will get to this later, but for now just know that we can set the derivative of $f(\\mu)$ to $0$ and solve for $\\mu$ to find $\\hat{\\mu}$. As a warmup, if $n=2$, then\n",
        "\n",
        "$$\n",
        "\\frac{d f(\\mu)}{d \\mu} = 2 (\\mu - y_1) + 2(\\mu - y_2)\n",
        "$$\n",
        "So solving, we get $\\hat{\\mu} = \\frac{y_1+y_2}{2}$"
      ]
    },
    {
      "cell_type": "markdown",
      "metadata": {
        "id": "dWwX267Rxf8u",
        "colab_type": "text"
      },
      "source": [
        "### Part a) Now solve for the general case of $n$. (2 pts)\n",
        "Show your work. The answer should be $\\hat{\\mu} = \\bar{y} = \\frac{1}{n} \\sum_{i=1}^n y_i$"
      ]
    },
    {
      "cell_type": "markdown",
      "metadata": {
        "id": "W3tN3QZxxf8v",
        "colab_type": "text"
      },
      "source": [
        "\n",
        "ANS: Set $\\frac{d f(\\mu)}{d \\mu}=0$, we get $-2 \\sum_{i=1}^{n}\\left(y_{i}-\\mu\\right)=0$. That means $\\sum_{i=1}^{n} y_{i}-\\sum_{i=1}^{n} \\mu=0$.   Note that  $\\sum_{i=1}^{n} y_{i}=\\sum_{i=1}^{n} \\bar{y}$ and $\\sum_{i=1}^{n} \\mu=n \\mu$. Therefore, $\\sum_{i=1}^{n} \\bar{y}-n \\mu=0 \\Rightarrow n \\bar{y}-n \\mu=0 \\Rightarrow \\hat{\\mu}=\\bar{y}$\n"
      ]
    },
    {
      "cell_type": "markdown",
      "metadata": {
        "id": "RVQGVctaxf89",
        "colab_type": "text"
      },
      "source": [
        "## View 2. Maximum likelihood estimate perspective\n",
        "Now another view is to model the data as $y_i = \\mu^* + \\epsilon_i$, where $\\epsilon_i \\sim N(0,\\sigma^2)$ is the error.\n",
        "\n",
        "### Part b) What is the distribution of $y_i$? (2 pts)"
      ]
    },
    {
      "cell_type": "markdown",
      "metadata": {
        "id": "aVitnLQ9xf8-",
        "colab_type": "text"
      },
      "source": [
        "ANS: $y_{i} \\sim N\\left(\\mu^*, \\sigma^{2}\\right)$"
      ]
    },
    {
      "cell_type": "markdown",
      "metadata": {
        "id": "jxuUMpbzxf8_",
        "colab_type": "text"
      },
      "source": [
        "### Part c) Write down the probability density function of $y_i$ as a function of $\\mu^*$. Call that $f_{\\mu^*}(y_i)$. (3 pts)"
      ]
    },
    {
      "cell_type": "markdown",
      "metadata": {
        "id": "n7GrYWBIxf8_",
        "colab_type": "text"
      },
      "source": [
        "ANS: $f_{\\mu^*}\\left(y_{i}\\right)=\\frac{1}{\\sigma \\sqrt{2 \\pi}} e^{-\\frac{\\left(y_{i}-\\mu^{*}\\right)^{2}}{2 \\sigma^{2}}}$"
      ]
    },
    {
      "cell_type": "markdown",
      "metadata": {
        "id": "OOTFHSVzxf9A",
        "colab_type": "text"
      },
      "source": [
        "### Part d) Compute the log-likelihood of the observed data (2 pts)\n",
        "\n",
        "Recall that if we observe $n$ independent and identically distributed copies of data drawn from a pdf, then the likelihood of a parameter given the observed data is\n",
        "$$\n",
        "L(\\mu) = \\prod_{i=1}^n f_{\\mu}(y_i)\n",
        "$$\n",
        "The log-likelihood is simply the log of that."
      ]
    },
    {
      "cell_type": "markdown",
      "metadata": {
        "id": "mxKp661Oxf9A",
        "colab_type": "text"
      },
      "source": [
        "ANS: \n",
        "\n",
        "$l:=\\log L(\\mu)=\\log \\prod_{i=1}^{n} f_{\\mu}(y_i)\n",
        "=\\log \\{\\prod_{i=1}^{n}\\frac{1}{\\sigma \\sqrt{2 \\pi}} e^{-\\frac{(y_i-\\mu)^{2}}{2 \\sigma^{2}}}\\}\n",
        "= \\log (\\left(\\frac{1}{\\sigma \\sqrt{2 \\pi}}\\right)^{n} e^{-\\frac{1}{2 \\sigma^{2}} \\sum_{i=1}^{n}\\left(y_{i}-\\mu\\right)^{2}})$\n",
        "\n",
        "$=n \\log \\frac{1}{\\sigma \\sqrt{2 \\pi}}-\\frac{1}{2\\sigma^{2}} \\sum_{i=1}^{n}\\left(y_{i}-\\mu\\right)^{2}=-\\frac{n}{2} \\log \\left(\\sigma^{2} 2 \\pi\\right) -\\frac{1}{2 \\sigma^{2}} \\sum_{i=1}^{n}\\left(y_{i}-\\mu\\right)^{2}$"
      ]
    },
    {
      "cell_type": "markdown",
      "metadata": {
        "id": "3dobNboFxf9B",
        "colab_type": "text"
      },
      "source": [
        "### Part e) Compute the maximum likelihood estimate. (1 pts)\n",
        "Do so by maximizing the above derived log-likelihood. It should have a very easy form."
      ]
    },
    {
      "cell_type": "markdown",
      "metadata": {
        "id": "Bg2pOhZZxf9B",
        "colab_type": "text"
      },
      "source": [
        "ANS: \n",
        "\n",
        "$\\begin{aligned}0=\\frac{\\partial l}{\\partial \\mu}=\\frac{1}{\\sigma^{2}} \\sum_{i=1}^{n}\\left(y_{i}-\\mu\\right)=0 \\Rightarrow \\hat{\\mu}=\\bar{y} \\end{aligned}$ by (a)\n",
        "\n",
        "$\\begin{aligned} 0=\\frac{\\partial l}{\\partial \\sigma^{2}} &=\\frac{\\partial\\left(-\\frac{n}{2} \\log \\sigma^{2}-\\frac{n}{2} \\log 2 \\pi\\right)}{\\partial \\sigma^{2}}+\\frac{1}{2\\sigma^4} \\sum_{i=1}^{n}\\left(y_{i}-\\mu\\right)^{2} \\\\ &=-\\frac{n}{2\\sigma^{2}}+\\frac{1}{2\\sigma^{4}} \\sum_{i=1}^{n}\\left(y_{i}-\\mu\\right)^{2} \\end{aligned}$\n",
        "\n",
        "\n",
        "$\\begin{aligned}\\frac{n}{2}=\\frac{1}{2\\sigma^{2}} \\sum_{i=1}^{n}\\left(y_{i}-\\mu\\right)^{2} \\Rightarrow \\hat{\\sigma}^{2}=\\frac{1}{n} \\sum_{i=1}^{n}\\left(y_{i}-\\mu\\right)^{2}\\end{aligned}$\n",
        "\n",
        "\n"
      ]
    },
    {
      "cell_type": "markdown",
      "metadata": {
        "id": "eNMbA5Haxf9B",
        "colab_type": "text"
      },
      "source": [
        "# Problem 1: Two views of linear regression (20 points)\n",
        "\n",
        "Recall that in linear regression we model each response $Y_i$ as a linear combination of input variables $X_{i,p}$ and noise. That is\n",
        "$$\n",
        "Y_i = \\beta_{0} + \\beta_{1}X_{i,1} + ... + \\beta_{p}X_{i,p} + \\epsilon_{i}\n",
        "$$\n",
        "which can be written in matrix form as\n",
        "$$\n",
        "Y = X \\beta + \\epsilon\n",
        "$$\n",
        "where $Y \\in {\\mathbb R}^n$ is the vector of responses (outcomes), $X \\in {\\mathbb R}^{n \\times (p + 1)}$ is the design matrix, where each row is a data point, and $\\beta \\in \\mathbb{R}^{p + 1}$ is the vector of parameters, including the intercept, and $\\epsilon \\in {\\mathbb R}^n$ is a noise (error) vector. Assume throughout this problem that the matrix $X^T X$ is invertible."
      ]
    },
    {
      "cell_type": "markdown",
      "metadata": {
        "id": "tm_70DAKxf9C",
        "colab_type": "text"
      },
      "source": [
        "## View 1: $\\hat \\beta$ minimizes the Euclidean distance between $Y$ and $X \\beta$. (10 pts)\n",
        "Suppose we make no assumptions about $\\epsilon$. We simply want to find the $\\beta$ that minimizes the Euclidean distance between $Y$ and $X \\beta$, i.e., the $\\ell_2$ norm of $Y - X \\beta$. That is, we seek\n",
        "$$\n",
        "\\hat \\beta = \\arg \\min_{\\beta \\in \\mathbb{R}^p} \\Vert{Y - X \\beta \\Vert}^2.\n",
        "$$\n",
        "Derive an explicit form for the minimzer $\\hat \\beta$. Your derivation should\n",
        "involve calculating the gradient of the objective function $f(\\beta) = \\|Y-X\\beta\\|^2$,\n",
        "and solving for the $\\beta$ that makes the gradient zero.  Express\n",
        "your solution as a function of the matrix $X$ and the vector $Y$. (If you get stuck, try to first find a clean way to write the gradient with respect to $\\beta$ of the $\\ell_2$ norm function $g(\\beta) = \\|\\beta\\|^2$.)"
      ]
    },
    {
      "cell_type": "markdown",
      "metadata": {
        "id": "1y0CVB92xf9D",
        "colab_type": "text"
      },
      "source": [
        "ANS:\n",
        "\n",
        "Since \n",
        "$f(\\beta) = (Y-X \\beta)^{\\top}(Y-X \\beta) = Y^{\\top}Y - \\beta^{\\top}X^{\\top}Y - Y^{\\top}X\\beta + \\beta^{\\top}X^{\\top}X\\beta \\\\\n",
        "= Y^{\\top}Y - Y^{\\top}X\\beta - Y^{\\top}X\\beta + \\beta^{\\top}X^{\\top}X\\beta  \\\\\n",
        "= Y^{\\top} Y-2 Y^{\\top}X\\beta+\\beta^{\\top} X^{\\top} X \\beta$.\n",
        "\n",
        "Take the derivate of $\\beta$, we have\n",
        "$$\n",
        "\\begin{aligned} \\frac{\\partial}{\\partial \\beta} f(\\beta) &=\\frac{\\partial}{\\partial \\beta}(Y^{\\top} Y-2 Y^{\\top}X\\beta+\\beta^{\\top} X^{\\top} X \\beta) \\\\ &= 0 -  2 (Y^{\\top}X)^{\\top}  + 2X^{\\top} X \\beta \\\\\n",
        "&= -2X^{\\top}Y + 2X^{\\top} X \\beta.\n",
        "\\end{aligned}\n",
        "$$\n",
        " \n",
        "Then we set the derivative equal to zero, we get\n",
        "$$\n",
        "\\begin{aligned}\n",
        "& -2X^{\\top}Y + 2X^{\\top} X \\beta = 0 \\Rightarrow 2X^{\\top} X \\beta = 2X^{\\top}Y \n",
        "\\\\\n",
        "& \\Rightarrow X^{\\top} X \\beta = X^{\\top}Y \\Rightarrow \\hat\\beta = (X^{\\top} X)^{-1}X^{\\top}Y\n",
        "\\end{aligned}\n",
        "$$\n"
      ]
    },
    {
      "cell_type": "markdown",
      "metadata": {
        "id": "EMEe-kUtxf9Y",
        "colab_type": "text"
      },
      "source": [
        "## View 2: $\\hat \\beta$ is the MLE in a normal model. (9 pts)\n",
        "Suppose we assume the same linear regression model as above, but now we assume that the $\\epsilon_i$ are uncorrelated and identically distributed as $N(0, \\sigma^2)$. Therefore, we can write\n",
        "$$\n",
        "Y \\sim N(X \\beta, \\sigma^2 I_n),\n",
        "$$\n",
        "meaning that $Y$ has a multivariate normal distribution with mean $X \\beta$ and diagonal covariance matrix $\\sigma^2 I_n$. Recall that for a vector $X \\sim N(\\mu, \\Sigma)$, the density is\n",
        "$$\n",
        "f(x) = \\frac{1}{\\sqrt{| 2\\pi\\Sigma|}} \\exp \\Bigl(- \\frac{1}{2}(x - \\mu)^{T} \\Sigma^{-1} (x - \\mu)\\Bigr).\n",
        "$$\n",
        "To derive the maximum likelihood estimator under this model, \n",
        "maximize the log density of $Y$ as a function of $\\beta$, assuming that $\\sigma^2$ is known.\n",
        "Show that the maximizer is the same as that obtained under View 1."
      ]
    },
    {
      "cell_type": "markdown",
      "metadata": {
        "id": "6C2aetskxf9f",
        "colab_type": "text"
      },
      "source": [
        "ANS: \n",
        "Here we want to maximize \n",
        "\n",
        "$$\n",
        "\\begin{aligned}\n",
        "l(\\beta):&=\\log \\frac{1}{\\sqrt{| 2\\pi\\sigma^2I_n|}} \\exp \\Bigl(- \\frac{1}{2}(Y - X\\beta)^{T} (\\sigma^2I_n)^{-1} (Y - X\\beta)\\Bigr) \\\\\n",
        "&= \\log \\frac{1}{{ (2\\pi)^\\frac{n}{2} |\\sigma^2I_n|^\\frac{1}{2}}} \\exp \\Bigl(- \\frac{1}{2}(Y - X\\beta)^{T} (\\sigma^2I_n)^{-1} (Y - X\\beta)\\Bigr) \\\\\n",
        "&= -\\frac{n}{2}\\log(2\\pi) - \\frac{1}{2}\\log|\\sigma^2I_n| - \\frac{1}{2}(Y - X\\beta)^{T} (\\sigma^2I_n)^{-1} (Y - X\\beta) \\\\\n",
        "&= -\\frac{n}{2}\\log(2\\pi) - \\frac{1}{2}\\log|\\sigma^2I_n| - \\frac{1}{2} \\sigma^{-2} (Y - X\\beta)^{T} I_n^{-1} (Y - X\\beta) \\\\\n",
        ".\n",
        "\\end{aligned}$$\n",
        "\n",
        "Take the derivative w.r.t $\\beta$, we get\n",
        "\n",
        "$$\n",
        "\\begin{aligned} \\frac{\\partial}{\\partial \\beta} l(\\beta) &=-2X^{\\top}Y + 2X^{\\top} X \\beta.\n",
        "\\end{aligned}$$\n",
        " \n",
        "Then, by View 1, $-2X^{\\top}Y + 2X^{\\top} X \\beta = 0$ and therefore again by View 1 $\\hat\\beta = (X^{\\top} X)^{-1}X^{\\top}Y. $"
      ]
    },
    {
      "cell_type": "markdown",
      "metadata": {
        "id": "t9XOc8cOxf9g",
        "colab_type": "text"
      },
      "source": [
        "## Connect the mean and linear regression. (1 pt)\n",
        "Argue that the mean is just linear regression for the special case where $X_i = 1$ for all $i$."
      ]
    },
    {
      "cell_type": "markdown",
      "metadata": {
        "id": "LX_QCfzLmzM_",
        "colab_type": "text"
      },
      "source": [
        "Remember that the matrix $X$ is $n×(p+1)$ in our problem. We take the i-th row of $X$ to be $(1,x^T_i)$. So, taking $x_i=1$ is now redundant. So we can just remove it. When $X=[1,...,1]^\\top\\in\\mathbb{R}^n$, $\\hat\\beta=(X^{\\top}X)^{-1}X^{\\top}Y=\\bar{y}$$\\hat\\beta=(X^{\\top}X)^{-1}X^{\\top}Y=\\bar{y}$. Therefore the mean of y is just the weight (coefficient) of linear regression where $X_i$ = 1 for all $i$.\n"
      ]
    },
    {
      "cell_type": "markdown",
      "metadata": {
        "id": "5QTVLSIdxf9h",
        "colab_type": "text"
      },
      "source": [
        "# Problem 2: Linear regression and classification (70 points)\n",
        "\n",
        "Citi Bike is a public bicycle sharing system in New York City. There are hundreds of bike stations scattered throughout the city. Customers can check out a bike at any station and return it at any other station. Citi Bike caters to both commuters and tourists. Details on this program can be found at https://www.citibikenyc.com/\n",
        "\n",
        "For this problem, you will build models to predict Citi Bike usage, in number of trips per day.\n",
        "The dataset consists of Citi Bike usage information and weather data recorded from Central Park. "
      ]
    },
    {
      "cell_type": "markdown",
      "metadata": {
        "id": "KAKmt9j1xf9j",
        "colab_type": "text"
      },
      "source": [
        "Date files: `citibike_*.csv`, `weather.csv`"
      ]
    },
    {
      "cell_type": "markdown",
      "metadata": {
        "id": "PxJ58ziixf9j",
        "colab_type": "text"
      },
      "source": [
        "In the `citibike_*.csv` files, we see:\n",
        "\n",
        "1. date\n",
        "\n",
        "2. trips: the total number of Citi Bike trips. This is the outcome variable.\n",
        "\n",
        "3. n_stations: the total number of Citi Bike stations in service\n",
        "\n",
        "4. holiday: whether or not the day is a work holiday\n",
        "\n",
        "5. month: taken from the date variable\n",
        "\n",
        "6. dayofweek: taken from the date variable\n",
        "\n",
        "In the `weather.csv` file, we have:\n",
        "\n",
        "1. date\n",
        "\n",
        "2. PRCP: amount precipitation (i.e. rainfall amount) in inches \n",
        "\n",
        "3. SNWD: snow depth in inches\n",
        "\n",
        "4. SNOW: snowfall in inches\n",
        "\n",
        "5. TMAX: maximum temperature for the day, in degrees F\n",
        "\n",
        "6. TMIN: minimum temperature for the day, in degrees F\n",
        "\n",
        "7. AWND: average windspeed"
      ]
    },
    {
      "cell_type": "markdown",
      "metadata": {
        "id": "93XcSLoIxf9k",
        "colab_type": "text"
      },
      "source": [
        "You are provided a training set consisting of data from 7/1/2013 to 3/31/2016, and a test set consisting of data after 4/1/2016. The weather file contains weather data for the entire year. "
      ]
    },
    {
      "cell_type": "markdown",
      "metadata": {
        "id": "4vYeCS4Uxf9k",
        "colab_type": "text"
      },
      "source": [
        "## Part a: Read in and merge the data. (5 pts)\n",
        "\n",
        "To read in the data, you can run, for example:"
      ]
    },
    {
      "cell_type": "code",
      "metadata": {
        "id": "eXkRdzK7xf9m",
        "colab_type": "code",
        "colab": {}
      },
      "source": [
        "train = pd.read_csv(\"citibike_train.csv\")\n",
        "test = pd.read_csv(\"citibike_test.csv\")"
      ],
      "execution_count": 6,
      "outputs": []
    },
    {
      "cell_type": "code",
      "metadata": {
        "id": "GqVDVWFMxf9z",
        "colab_type": "code",
        "colab": {}
      },
      "source": [
        "weather = pd.read_csv(\"weather.csv\")"
      ],
      "execution_count": 7,
      "outputs": []
    },
    {
      "cell_type": "markdown",
      "metadata": {
        "id": "jDyjPth1xf-F",
        "colab_type": "text"
      },
      "source": [
        "Merge the training and test data with the weather data, by date. Once you have successfully merged the data, you may drop the \"date\" variable; we will not need it for the rest of this assignment."
      ]
    },
    {
      "cell_type": "code",
      "metadata": {
        "id": "nofqwMkExf-I",
        "colab_type": "code",
        "colab": {}
      },
      "source": [
        "merged_train = train.merge(weather,on='date')"
      ],
      "execution_count": 8,
      "outputs": []
    },
    {
      "cell_type": "code",
      "metadata": {
        "id": "6zzZeBRwxf-M",
        "colab_type": "code",
        "colab": {}
      },
      "source": [
        "merged_test =  test.merge(weather,on='date') #MERGE THE TEST SET WITH THE WEATHER DATASET HERE"
      ],
      "execution_count": 9,
      "outputs": []
    },
    {
      "cell_type": "markdown",
      "metadata": {
        "id": "Kiu1oCuoxf-R",
        "colab_type": "text"
      },
      "source": [
        "Drop the date column here"
      ]
    },
    {
      "cell_type": "code",
      "metadata": {
        "id": "5OXasGWKxf-S",
        "colab_type": "code",
        "colab": {}
      },
      "source": [
        "merged_train_drop = merged_train.drop('date',axis=1)"
      ],
      "execution_count": 10,
      "outputs": []
    },
    {
      "cell_type": "code",
      "metadata": {
        "id": "zQQAzhZqxgAn",
        "colab_type": "code",
        "colab": {}
      },
      "source": [
        "merged_test_drop  = merged_test.drop('date',axis=1)"
      ],
      "execution_count": 11,
      "outputs": []
    },
    {
      "cell_type": "markdown",
      "metadata": {
        "id": "PefLEyIWxgAr",
        "colab_type": "text"
      },
      "source": [
        "## Part b: Visualize data. (10 pts)"
      ]
    },
    {
      "cell_type": "markdown",
      "metadata": {
        "id": "WJwSJbGfxgAr",
        "colab_type": "text"
      },
      "source": [
        "As always, before you start any modeling, you should look at the data. Make plots of some of the numeric variables. Look for outliers and strange values. Look for missing data signified by NA. Comment on any steps you take to remove entries or otherwise process the data. Also comment on whether any predictors are strongly correlated with each other. Plot the max temperature against the min temperature. Is there a relationship? What's the correlation between each predictor (feature) against the length of trips?"
      ]
    },
    {
      "cell_type": "markdown",
      "metadata": {
        "id": "k3K9pGS86cim",
        "colab_type": "text"
      },
      "source": [
        "### Part b (1) Data merging and visualization\n",
        "We first merged the train set and test set to visualize the full datasets. Then we apply boxplots to loo for outliers. "
      ]
    },
    {
      "cell_type": "code",
      "metadata": {
        "id": "vgWy6VOQxgAs",
        "colab_type": "code",
        "colab": {}
      },
      "source": [
        "import matplotlib.pyplot as plt\n",
        "%matplotlib inline"
      ],
      "execution_count": 12,
      "outputs": []
    },
    {
      "cell_type": "code",
      "metadata": {
        "id": "jCQVIYunAa5i",
        "colab_type": "code",
        "colab": {
          "base_uri": "https://localhost:8080/",
          "height": 444
        },
        "outputId": "a63f9d1e-d582-4b7f-cd2d-32b4862bcd72"
      },
      "source": [
        "print(merged_train_drop.shape)\n",
        "print(merged_test_drop.shape)\n",
        "# concatenate the train set and test set\n",
        "merged_all_drop = pd.concat([merged_train_drop, merged_test_drop])\n",
        "merged_all_drop"
      ],
      "execution_count": 13,
      "outputs": [
        {
          "output_type": "stream",
          "text": [
            "(1001, 11)\n",
            "(183, 11)\n"
          ],
          "name": "stdout"
        },
        {
          "output_type": "execute_result",
          "data": {
            "text/html": [
              "<div>\n",
              "<style scoped>\n",
              "    .dataframe tbody tr th:only-of-type {\n",
              "        vertical-align: middle;\n",
              "    }\n",
              "\n",
              "    .dataframe tbody tr th {\n",
              "        vertical-align: top;\n",
              "    }\n",
              "\n",
              "    .dataframe thead th {\n",
              "        text-align: right;\n",
              "    }\n",
              "</style>\n",
              "<table border=\"1\" class=\"dataframe\">\n",
              "  <thead>\n",
              "    <tr style=\"text-align: right;\">\n",
              "      <th></th>\n",
              "      <th>trips</th>\n",
              "      <th>n_stations</th>\n",
              "      <th>holiday</th>\n",
              "      <th>month</th>\n",
              "      <th>dayofweek</th>\n",
              "      <th>PRCP</th>\n",
              "      <th>SNWD</th>\n",
              "      <th>SNOW</th>\n",
              "      <th>TMAX</th>\n",
              "      <th>TMIN</th>\n",
              "      <th>AWND</th>\n",
              "    </tr>\n",
              "  </thead>\n",
              "  <tbody>\n",
              "    <tr>\n",
              "      <th>0</th>\n",
              "      <td>16650</td>\n",
              "      <td>326</td>\n",
              "      <td>False</td>\n",
              "      <td>Jul</td>\n",
              "      <td>Mon</td>\n",
              "      <td>0.84</td>\n",
              "      <td>0.0</td>\n",
              "      <td>0.0</td>\n",
              "      <td>77</td>\n",
              "      <td>72</td>\n",
              "      <td>3.1</td>\n",
              "    </tr>\n",
              "    <tr>\n",
              "      <th>1</th>\n",
              "      <td>22745</td>\n",
              "      <td>327</td>\n",
              "      <td>False</td>\n",
              "      <td>Jul</td>\n",
              "      <td>Tues</td>\n",
              "      <td>0.08</td>\n",
              "      <td>0.0</td>\n",
              "      <td>0.0</td>\n",
              "      <td>82</td>\n",
              "      <td>72</td>\n",
              "      <td>2.7</td>\n",
              "    </tr>\n",
              "    <tr>\n",
              "      <th>2</th>\n",
              "      <td>21864</td>\n",
              "      <td>326</td>\n",
              "      <td>False</td>\n",
              "      <td>Jul</td>\n",
              "      <td>Wed</td>\n",
              "      <td>0.53</td>\n",
              "      <td>0.0</td>\n",
              "      <td>0.0</td>\n",
              "      <td>83</td>\n",
              "      <td>73</td>\n",
              "      <td>4.3</td>\n",
              "    </tr>\n",
              "    <tr>\n",
              "      <th>3</th>\n",
              "      <td>22326</td>\n",
              "      <td>326</td>\n",
              "      <td>True</td>\n",
              "      <td>Jul</td>\n",
              "      <td>Thurs</td>\n",
              "      <td>0.00</td>\n",
              "      <td>0.0</td>\n",
              "      <td>0.0</td>\n",
              "      <td>87</td>\n",
              "      <td>75</td>\n",
              "      <td>4.3</td>\n",
              "    </tr>\n",
              "    <tr>\n",
              "      <th>4</th>\n",
              "      <td>21842</td>\n",
              "      <td>325</td>\n",
              "      <td>False</td>\n",
              "      <td>Jul</td>\n",
              "      <td>Fri</td>\n",
              "      <td>0.00</td>\n",
              "      <td>0.0</td>\n",
              "      <td>0.0</td>\n",
              "      <td>90</td>\n",
              "      <td>76</td>\n",
              "      <td>4.9</td>\n",
              "    </tr>\n",
              "    <tr>\n",
              "      <th>...</th>\n",
              "      <td>...</td>\n",
              "      <td>...</td>\n",
              "      <td>...</td>\n",
              "      <td>...</td>\n",
              "      <td>...</td>\n",
              "      <td>...</td>\n",
              "      <td>...</td>\n",
              "      <td>...</td>\n",
              "      <td>...</td>\n",
              "      <td>...</td>\n",
              "      <td>...</td>\n",
              "    </tr>\n",
              "    <tr>\n",
              "      <th>178</th>\n",
              "      <td>45436</td>\n",
              "      <td>568</td>\n",
              "      <td>True</td>\n",
              "      <td>Sep</td>\n",
              "      <td>Mon</td>\n",
              "      <td>0.00</td>\n",
              "      <td>0.0</td>\n",
              "      <td>0.0</td>\n",
              "      <td>84</td>\n",
              "      <td>65</td>\n",
              "      <td>7.6</td>\n",
              "    </tr>\n",
              "    <tr>\n",
              "      <th>179</th>\n",
              "      <td>52447</td>\n",
              "      <td>573</td>\n",
              "      <td>False</td>\n",
              "      <td>Sep</td>\n",
              "      <td>Tues</td>\n",
              "      <td>0.00</td>\n",
              "      <td>0.0</td>\n",
              "      <td>0.0</td>\n",
              "      <td>80</td>\n",
              "      <td>71</td>\n",
              "      <td>9.6</td>\n",
              "    </tr>\n",
              "    <tr>\n",
              "      <th>180</th>\n",
              "      <td>60500</td>\n",
              "      <td>573</td>\n",
              "      <td>False</td>\n",
              "      <td>Sep</td>\n",
              "      <td>Wed</td>\n",
              "      <td>0.00</td>\n",
              "      <td>0.0</td>\n",
              "      <td>0.0</td>\n",
              "      <td>85</td>\n",
              "      <td>71</td>\n",
              "      <td>6.5</td>\n",
              "    </tr>\n",
              "    <tr>\n",
              "      <th>181</th>\n",
              "      <td>61596</td>\n",
              "      <td>573</td>\n",
              "      <td>False</td>\n",
              "      <td>Sep</td>\n",
              "      <td>Thurs</td>\n",
              "      <td>0.00</td>\n",
              "      <td>0.0</td>\n",
              "      <td>0.0</td>\n",
              "      <td>89</td>\n",
              "      <td>71</td>\n",
              "      <td>2.7</td>\n",
              "    </tr>\n",
              "    <tr>\n",
              "      <th>182</th>\n",
              "      <td>56813</td>\n",
              "      <td>575</td>\n",
              "      <td>False</td>\n",
              "      <td>Sep</td>\n",
              "      <td>Fri</td>\n",
              "      <td>0.22</td>\n",
              "      <td>0.0</td>\n",
              "      <td>0.0</td>\n",
              "      <td>91</td>\n",
              "      <td>75</td>\n",
              "      <td>3.8</td>\n",
              "    </tr>\n",
              "  </tbody>\n",
              "</table>\n",
              "<p>1184 rows × 11 columns</p>\n",
              "</div>"
            ],
            "text/plain": [
              "     trips  n_stations  holiday month dayofweek  ...  SNWD  SNOW  TMAX  TMIN  AWND\n",
              "0    16650         326    False   Jul       Mon  ...   0.0   0.0    77    72   3.1\n",
              "1    22745         327    False   Jul      Tues  ...   0.0   0.0    82    72   2.7\n",
              "2    21864         326    False   Jul       Wed  ...   0.0   0.0    83    73   4.3\n",
              "3    22326         326     True   Jul     Thurs  ...   0.0   0.0    87    75   4.3\n",
              "4    21842         325    False   Jul       Fri  ...   0.0   0.0    90    76   4.9\n",
              "..     ...         ...      ...   ...       ...  ...   ...   ...   ...   ...   ...\n",
              "178  45436         568     True   Sep       Mon  ...   0.0   0.0    84    65   7.6\n",
              "179  52447         573    False   Sep      Tues  ...   0.0   0.0    80    71   9.6\n",
              "180  60500         573    False   Sep       Wed  ...   0.0   0.0    85    71   6.5\n",
              "181  61596         573    False   Sep     Thurs  ...   0.0   0.0    89    71   2.7\n",
              "182  56813         575    False   Sep       Fri  ...   0.0   0.0    91    75   3.8\n",
              "\n",
              "[1184 rows x 11 columns]"
            ]
          },
          "metadata": {
            "tags": []
          },
          "execution_count": 13
        }
      ]
    },
    {
      "cell_type": "code",
      "metadata": {
        "id": "KBgPabjfHySK",
        "colab_type": "code",
        "colab": {
          "base_uri": "https://localhost:8080/",
          "height": 422
        },
        "outputId": "ccbc182b-047c-4ac7-c35b-f125e32067a1"
      },
      "source": [
        "fig=plt.figure(figsize=(12,6))\n",
        "plt.plot(merged_all_drop.n_stations,merged_all_drop.trips,'.',markersize=10)\n",
        "plt.xlabel('n_stations')\n",
        "plt.ylabel('Trips');\n",
        "plt.title('n_stations vs Trips', fontsize=16)"
      ],
      "execution_count": 14,
      "outputs": [
        {
          "output_type": "execute_result",
          "data": {
            "text/plain": [
              "Text(0.5, 1.0, 'n_stations vs Trips')"
            ]
          },
          "metadata": {
            "tags": []
          },
          "execution_count": 14
        },
        {
          "output_type": "display_data",
          "data": {
            "image/png": "[encoded data removed]",
            "text/plain": [
              "<Figure size 864x432 with 1 Axes>"
            ]
          },
          "metadata": {
            "tags": [],
            "needs_background": "light"
          }
        }
      ]
    },
    {
      "cell_type": "code",
      "metadata": {
        "id": "1mNNnKA723fj",
        "colab_type": "code",
        "colab": {
          "base_uri": "https://localhost:8080/",
          "height": 421
        },
        "outputId": "06303d87-f4d6-41f3-d243-c3a52a109bdd"
      },
      "source": [
        "fig=plt.figure(figsize=(12,6))\n",
        "plt.plot(merged_all_drop.PRCP,merged_all_drop.trips,'.',markersize=10)\n",
        "plt.xlabel('PRCP')\n",
        "plt.ylabel('Trips');\n",
        "plt.title('PRCP vs Trips', fontsize=16)"
      ],
      "execution_count": 15,
      "outputs": [
        {
          "output_type": "execute_result",
          "data": {
            "text/plain": [
              "Text(0.5, 1.0, 'PRCP vs Trips')"
            ]
          },
          "metadata": {
            "tags": []
          },
          "execution_count": 15
        },
        {
          "output_type": "display_data",
          "data": {
            "image/png": "[encoded data removed]",
            "text/plain": [
              "<Figure size 864x432 with 1 Axes>"
            ]
          },
          "metadata": {
            "tags": [],
            "needs_background": "light"
          }
        }
      ]
    },
    {
      "cell_type": "markdown",
      "metadata": {
        "id": "OK6nRME-82cs",
        "colab_type": "text"
      },
      "source": [
        "It looks like there's an PRCP outlier close to 5.\n"
      ]
    },
    {
      "cell_type": "code",
      "metadata": {
        "id": "xK-anr9v45s6",
        "colab_type": "code",
        "colab": {
          "base_uri": "https://localhost:8080/",
          "height": 565
        },
        "outputId": "82e87b17-2586-49b6-9d92-779671628537"
      },
      "source": [
        "merged_all_drop.plot(x=\"trips\", y=[\"SNOW\", \"SNWD\"],marker='.',linestyle='',figsize=(15,9))"
      ],
      "execution_count": 16,
      "outputs": [
        {
          "output_type": "execute_result",
          "data": {
            "text/plain": [
              "<matplotlib.axes._subplots.AxesSubplot at 0x7f7f3ac98b70>"
            ]
          },
          "metadata": {
            "tags": []
          },
          "execution_count": 16
        },
        {
          "output_type": "display_data",
          "data": {
            "image/png": "[encoded data removed]",
            "text/plain": [
              "<Figure size 1080x648 with 1 Axes>"
            ]
          },
          "metadata": {
            "tags": [],
            "needs_background": "light"
          }
        }
      ]
    },
    {
      "cell_type": "markdown",
      "metadata": {
        "id": "-jEUGpk99h-e",
        "colab_type": "text"
      },
      "source": [
        "The value of SNOW and SNWD are mainly clustered around 0. They gradually become sparse when they are greater than around 0. These sparse values may be considered as outliers. "
      ]
    },
    {
      "cell_type": "code",
      "metadata": {
        "id": "HjFLdPtt4C52",
        "colab_type": "code",
        "colab": {
          "base_uri": "https://localhost:8080/",
          "height": 565
        },
        "outputId": "fa473cf3-808b-4f1f-c2b4-7e75accd36b6"
      },
      "source": [
        "merged_all_drop.plot(x=\"trips\", y=[\"TMAX\", \"TMIN\"],marker='.',linestyle='',figsize=(15,9))"
      ],
      "execution_count": 17,
      "outputs": [
        {
          "output_type": "execute_result",
          "data": {
            "text/plain": [
              "<matplotlib.axes._subplots.AxesSubplot at 0x7f7f3ac71f98>"
            ]
          },
          "metadata": {
            "tags": []
          },
          "execution_count": 17
        },
        {
          "output_type": "display_data",
          "data": {
            "image/png": "[encoded data removed]",
            "text/plain": [
              "<Figure size 1080x648 with 1 Axes>"
            ]
          },
          "metadata": {
            "tags": [],
            "needs_background": "light"
          }
        }
      ]
    },
    {
      "cell_type": "markdown",
      "metadata": {
        "id": "1337_YXy-Kyx",
        "colab_type": "text"
      },
      "source": [
        "It looks like there's no outliers for both TMAX and TMIN. We can verify by box plots."
      ]
    },
    {
      "cell_type": "code",
      "metadata": {
        "id": "tWBVmgXY0nnm",
        "colab_type": "code",
        "colab": {
          "base_uri": "https://localhost:8080/",
          "height": 584
        },
        "outputId": "821ad8f4-2609-41cd-cea6-87cf5d545cbc"
      },
      "source": [
        "# plot max temperature against the min temperature\n",
        "merged_all_drop.plot(x=\"TMAX\", y=\"TMIN\",marker='.',linestyle='',figsize=(15,9))\n",
        "plt.xlabel('TMAX')\n",
        "plt.ylabel('TMIN');\n",
        "plt.title('Max temperature vs min temperature', fontsize=16)"
      ],
      "execution_count": 18,
      "outputs": [
        {
          "output_type": "execute_result",
          "data": {
            "text/plain": [
              "Text(0.5, 1.0, 'Max temperature vs min temperature')"
            ]
          },
          "metadata": {
            "tags": []
          },
          "execution_count": 18
        },
        {
          "output_type": "display_data",
          "data": {
            "image/png": "[encoded data removed]",
            "text/plain": [
              "<Figure size 1080x648 with 1 Axes>"
            ]
          },
          "metadata": {
            "tags": [],
            "needs_background": "light"
          }
        }
      ]
    },
    {
      "cell_type": "code",
      "metadata": {
        "id": "1ADwiJw3679I",
        "colab_type": "code",
        "colab": {
          "base_uri": "https://localhost:8080/",
          "height": 395
        },
        "outputId": "67ae4138-3c1e-45c9-d77d-f33634dfe71c"
      },
      "source": [
        "plt.boxplot(merged_all_drop['TMAX'])"
      ],
      "execution_count": 19,
      "outputs": [
        {
          "output_type": "execute_result",
          "data": {
            "text/plain": [
              "{'boxes': [<matplotlib.lines.Line2D at 0x7f7f3ab3f7f0>],\n",
              " 'caps': [<matplotlib.lines.Line2D at 0x7f7f3ab4f240>,\n",
              "  <matplotlib.lines.Line2D at 0x7f7f3ab4f5c0>],\n",
              " 'fliers': [<matplotlib.lines.Line2D at 0x7f7f3ab4fcc0>],\n",
              " 'means': [],\n",
              " 'medians': [<matplotlib.lines.Line2D at 0x7f7f3ab4f940>],\n",
              " 'whiskers': [<matplotlib.lines.Line2D at 0x7f7f3ab3fb00>,\n",
              "  <matplotlib.lines.Line2D at 0x7f7f3ab3fe80>]}"
            ]
          },
          "metadata": {
            "tags": []
          },
          "execution_count": 19
        },
        {
          "output_type": "display_data",
          "data": {
            "image/png": "[encoded data removed]",
            "text/plain": [
              "<Figure size 432x288 with 1 Axes>"
            ]
          },
          "metadata": {
            "tags": [],
            "needs_background": "light"
          }
        }
      ]
    },
    {
      "cell_type": "code",
      "metadata": {
        "id": "H0kwuuqD-Yig",
        "colab_type": "code",
        "colab": {
          "base_uri": "https://localhost:8080/",
          "height": 395
        },
        "outputId": "6cbcbd0b-30ae-454e-e7a2-f9ac2f9f1328"
      },
      "source": [
        "plt.boxplot(merged_all_drop['TMIN'])"
      ],
      "execution_count": 20,
      "outputs": [
        {
          "output_type": "execute_result",
          "data": {
            "text/plain": [
              "{'boxes': [<matplotlib.lines.Line2D at 0x7f7f3aaa2e80>],\n",
              " 'caps': [<matplotlib.lines.Line2D at 0x7f7f3aab08d0>,\n",
              "  <matplotlib.lines.Line2D at 0x7f7f3aab0c50>],\n",
              " 'fliers': [<matplotlib.lines.Line2D at 0x7f7f3aabb390>],\n",
              " 'means': [],\n",
              " 'medians': [<matplotlib.lines.Line2D at 0x7f7f3aab0fd0>],\n",
              " 'whiskers': [<matplotlib.lines.Line2D at 0x7f7f3aab01d0>,\n",
              "  <matplotlib.lines.Line2D at 0x7f7f3aab0550>]}"
            ]
          },
          "metadata": {
            "tags": []
          },
          "execution_count": 20
        },
        {
          "output_type": "display_data",
          "data": {
            "image/png": "[encoded data removed]",
            "text/plain": [
              "<Figure size 432x288 with 1 Axes>"
            ]
          },
          "metadata": {
            "tags": [],
            "needs_background": "light"
          }
        }
      ]
    },
    {
      "cell_type": "markdown",
      "metadata": {
        "id": "69ZRC9XF-sQv",
        "colab_type": "text"
      },
      "source": [
        "### Part b (2) Missing value detection\n",
        "Look for missing data signified by NA."
      ]
    },
    {
      "cell_type": "code",
      "metadata": {
        "id": "7ds3Jw88_Iwr",
        "colab_type": "code",
        "colab": {
          "base_uri": "https://localhost:8080/",
          "height": 214
        },
        "outputId": "00e1a542-4ec7-4165-91fd-1b1eb79c4ce2"
      },
      "source": [
        "merged_all_drop.isnull().sum()"
      ],
      "execution_count": 21,
      "outputs": [
        {
          "output_type": "execute_result",
          "data": {
            "text/plain": [
              "trips         0\n",
              "n_stations    0\n",
              "holiday       0\n",
              "month         0\n",
              "dayofweek     0\n",
              "PRCP          0\n",
              "SNWD          0\n",
              "SNOW          0\n",
              "TMAX          0\n",
              "TMIN          0\n",
              "AWND          0\n",
              "dtype: int64"
            ]
          },
          "metadata": {
            "tags": []
          },
          "execution_count": 21
        }
      ]
    },
    {
      "cell_type": "code",
      "metadata": {
        "id": "Yf6P7cIM_rQO",
        "colab_type": "code",
        "colab": {
          "base_uri": "https://localhost:8080/",
          "height": 247
        },
        "outputId": "5d94f0f8-2c64-4978-b079-423ab50d570b"
      },
      "source": [
        "print(train.isnull().any())\n",
        "print(test.isnull().any())"
      ],
      "execution_count": 22,
      "outputs": [
        {
          "output_type": "stream",
          "text": [
            "date          False\n",
            "trips         False\n",
            "n_stations    False\n",
            "holiday       False\n",
            "month         False\n",
            "dayofweek     False\n",
            "dtype: bool\n",
            "date          False\n",
            "trips         False\n",
            "n_stations    False\n",
            "holiday       False\n",
            "month         False\n",
            "dayofweek     False\n",
            "dtype: bool\n"
          ],
          "name": "stdout"
        }
      ]
    },
    {
      "cell_type": "markdown",
      "metadata": {
        "id": "YE6jDW1FCqHY",
        "colab_type": "text"
      },
      "source": [
        "There's no missing values!"
      ]
    },
    {
      "cell_type": "markdown",
      "metadata": {
        "id": "pOSM6SvMCse3",
        "colab_type": "text"
      },
      "source": [
        "### Part b (3) Other Data Processing Steps"
      ]
    },
    {
      "cell_type": "markdown",
      "metadata": {
        "id": "w9KFiY06DGVu",
        "colab_type": "text"
      },
      "source": [
        "#### Part b (3.1) Dealing with outlier"
      ]
    },
    {
      "cell_type": "code",
      "metadata": {
        "id": "AaWRghxJHXy0",
        "colab_type": "code",
        "colab": {
          "base_uri": "https://localhost:8080/",
          "height": 32
        },
        "outputId": "f932e224-53ee-4f48-8e2c-371b1a8bf996"
      },
      "source": [
        "from scipy import stats\n",
        "merged_all_drop.shape"
      ],
      "execution_count": 23,
      "outputs": [
        {
          "output_type": "execute_result",
          "data": {
            "text/plain": [
              "(1184, 11)"
            ]
          },
          "metadata": {
            "tags": []
          },
          "execution_count": 23
        }
      ]
    },
    {
      "cell_type": "code",
      "metadata": {
        "id": "GoEmqWRmJ6Qr",
        "colab_type": "code",
        "colab": {}
      },
      "source": [
        "cols_to_loop = ['n_stations','PRCP', 'SNWD','SNOW', 'TMAX', 'TMIN', 'AWND']\n",
        "idx_to_rm_train = []\n",
        "for column in cols_to_loop:\n",
        "  col = merged_train_drop[column]\n",
        "  idx_to_rm_train.extend(col.index[col.mask((col - col.mean()).abs() > 3 * col.std()).isnull()].tolist())\n",
        "idx_to_rm_train = list(set(idx_to_rm_train))"
      ],
      "execution_count": 24,
      "outputs": []
    },
    {
      "cell_type": "code",
      "metadata": {
        "id": "pPyx-ImzFW6R",
        "colab_type": "code",
        "colab": {}
      },
      "source": [
        "cols_to_loop = ['n_stations','PRCP', 'SNWD','SNOW', 'TMAX', 'TMIN', 'AWND']\n",
        "idx_to_rm_test = []\n",
        "for column in cols_to_loop:\n",
        "  col = merged_test_drop[column]\n",
        "  idx_to_rm_test.extend(col.index[col.mask((col - col.mean()).abs() > 3 * col.std()).isnull()].tolist())\n",
        "idx_to_rm_test = list(set(idx_to_rm_test))"
      ],
      "execution_count": 25,
      "outputs": []
    },
    {
      "cell_type": "code",
      "metadata": {
        "id": "pK0jiCB_ztU-",
        "colab_type": "code",
        "colab": {
          "base_uri": "https://localhost:8080/",
          "height": 69
        },
        "outputId": "9170a703-fe81-47ba-c0ca-4e0fb2f06818"
      },
      "source": [
        "print(idx_to_rm_train)\n",
        "print(idx_to_rm_test)"
      ],
      "execution_count": 26,
      "outputs": [
        {
          "output_type": "stream",
          "text": [
            "[513, 771, 899, 611, 612, 905, 523, 613, 526, 271, 658, 614, 149, 615, 923, 801, 166, 303, 945, 181, 566, 821, 185, 186, 699, 572, 574, 319, 575, 964, 581, 73, 460, 205, 604, 204, 849, 209, 596, 343, 600, 217, 601, 347, 219, 602, 478, 603, 224, 225, 226, 227, 228, 229, 230, 871, 231, 232, 233, 234, 235, 236, 606, 367, 607, 616, 617, 627, 608, 605, 880, 759, 504, 609, 881, 379, 610]\n",
            "[34, 35, 36, 37, 39, 138, 139, 108, 140, 112, 115, 53, 86, 25]\n"
          ],
          "name": "stdout"
        }
      ]
    },
    {
      "cell_type": "code",
      "metadata": {
        "id": "Z-Ly5Hsbz-_z",
        "colab_type": "code",
        "colab": {}
      },
      "source": [
        "# Remove the outlier index on each training and testing set\n",
        "# merged_train_drop = merged_train_drop.drop(idx_to_rm_train)\n",
        "# merged_test_drop = merged_test_drop.drop(idx_to_rm_test)"
      ],
      "execution_count": 27,
      "outputs": []
    },
    {
      "cell_type": "markdown",
      "metadata": {
        "id": "pUM0tLX01A35",
        "colab_type": "text"
      },
      "source": [
        "#### Part b (3.2) Correlations"
      ]
    },
    {
      "cell_type": "code",
      "metadata": {
        "id": "GQX1YqlJNJ2C",
        "colab_type": "code",
        "colab": {
          "base_uri": "https://localhost:8080/",
          "height": 565
        },
        "outputId": "03e8d723-7434-4495-f7c0-e52792193011"
      },
      "source": [
        "import seaborn as sns\n",
        "sns.set(style=\"white\")\n",
        "# correlation matrix\n",
        "corr = merged_all_drop.corr()\n",
        "\n",
        "# create a mask for upper triangle oft corr. matrix\n",
        "mask = np.zeros_like(corr, dtype=np.bool)\n",
        "mask[np.triu_indices_from(mask)] = True\n",
        "\n",
        "f, ax = plt.subplots(figsize=(10, 10))\n",
        "cmap = sns.diverging_palette(220, 10, as_cmap=True)\n",
        "\n",
        "# Draw the heatmap with the mask and correct aspect ratio\n",
        "sns.heatmap(corr, mask=mask, cmap=cmap, vmax=.3, center=0,\n",
        "            square=True, linewidths=.5, cbar_kws={\"shrink\": .5})"
      ],
      "execution_count": 28,
      "outputs": [
        {
          "output_type": "stream",
          "text": [
            "/usr/local/lib/python3.6/dist-packages/statsmodels/tools/_testing.py:19: FutureWarning: pandas.util.testing is deprecated. Use the functions in the public API at pandas.testing instead.\n",
            "  import pandas.util.testing as tm\n"
          ],
          "name": "stderr"
        },
        {
          "output_type": "execute_result",
          "data": {
            "text/plain": [
              "<matplotlib.axes._subplots.AxesSubplot at 0x7f7f2ee10208>"
            ]
          },
          "metadata": {
            "tags": []
          },
          "execution_count": 28
        },
        {
          "output_type": "display_data",
          "data": {
            "image/png": "[encoded data removed]",
            "text/plain": [
              "<Figure size 720x720 with 2 Axes>"
            ]
          },
          "metadata": {
            "tags": []
          }
        }
      ]
    },
    {
      "cell_type": "markdown",
      "metadata": {
        "id": "jfzBWIPIVTJJ",
        "colab_type": "text"
      },
      "source": [
        "Correlation between each predictor (feature) against the number of trips:"
      ]
    },
    {
      "cell_type": "code",
      "metadata": {
        "id": "LvmPLFAhSCrq",
        "colab_type": "code",
        "colab": {
          "base_uri": "https://localhost:8080/",
          "height": 131
        },
        "outputId": "1fba52ca-6f01-4efe-e988-c2df1256500d"
      },
      "source": [
        "from scipy.stats import pearsonr\n",
        "\n",
        "# calculate Pearson's correlation\n",
        "cols_to_loop = ['n_stations','PRCP', 'SNWD','SNOW', 'TMAX', 'TMIN', 'AWND']\n",
        "for i in cols_to_loop:\n",
        "  corr, _ = pearsonr(merged_all_drop[i],merged_all_drop[\"trips\"] )\n",
        "  print(i,'Pearsons correlation: %.3f' % corr)"
      ],
      "execution_count": 29,
      "outputs": [
        {
          "output_type": "stream",
          "text": [
            "n_stations Pearsons correlation: 0.531\n",
            "PRCP Pearsons correlation: -0.239\n",
            "SNWD Pearsons correlation: -0.425\n",
            "SNOW Pearsons correlation: -0.240\n",
            "TMAX Pearsons correlation: 0.748\n",
            "TMIN Pearsons correlation: 0.720\n",
            "AWND Pearsons correlation: -0.055\n"
          ],
          "name": "stdout"
        }
      ]
    },
    {
      "cell_type": "code",
      "metadata": {
        "id": "gkgf5-RxTd_m",
        "colab_type": "code",
        "colab": {
          "base_uri": "https://localhost:8080/",
          "height": 823
        },
        "outputId": "91596659-de47-4e5b-cfc6-0c67098cf281"
      },
      "source": [
        "cols_to_loop = ['n_stations','PRCP', 'SNWD','SNOW', 'TMAX', 'TMIN', 'AWND']\n",
        "for i in cols_to_loop:\n",
        "    for j in cols_to_loop:\n",
        "      corr, _ = pearsonr(merged_all_drop[i],merged_all_drop[j] )\n",
        "      print(i,j,'Pearsons correlation: %.3f' % corr)"
      ],
      "execution_count": 30,
      "outputs": [
        {
          "output_type": "stream",
          "text": [
            "n_stations n_stations Pearsons correlation: 1.000\n",
            "n_stations PRCP Pearsons correlation: -0.039\n",
            "n_stations SNWD Pearsons correlation: -0.186\n",
            "n_stations SNOW Pearsons correlation: -0.098\n",
            "n_stations TMAX Pearsons correlation: 0.140\n",
            "n_stations TMIN Pearsons correlation: 0.137\n",
            "n_stations AWND Pearsons correlation: -0.126\n",
            "PRCP n_stations Pearsons correlation: -0.039\n",
            "PRCP PRCP Pearsons correlation: 1.000\n",
            "PRCP SNWD Pearsons correlation: 0.012\n",
            "PRCP SNOW Pearsons correlation: 0.218\n",
            "PRCP TMAX Pearsons correlation: -0.018\n",
            "PRCP TMIN Pearsons correlation: 0.006\n",
            "PRCP AWND Pearsons correlation: 0.027\n",
            "SNWD n_stations Pearsons correlation: -0.186\n",
            "SNWD PRCP Pearsons correlation: 0.012\n",
            "SNWD SNWD Pearsons correlation: 1.000\n",
            "SNWD SNOW Pearsons correlation: 0.267\n",
            "SNWD TMAX Pearsons correlation: -0.430\n",
            "SNWD TMIN Pearsons correlation: -0.441\n",
            "SNWD AWND Pearsons correlation: 0.015\n",
            "SNOW n_stations Pearsons correlation: -0.098\n",
            "SNOW PRCP Pearsons correlation: 0.218\n",
            "SNOW SNWD Pearsons correlation: 0.267\n",
            "SNOW SNOW Pearsons correlation: 1.000\n",
            "SNOW TMAX Pearsons correlation: -0.220\n",
            "SNOW TMIN Pearsons correlation: -0.222\n",
            "SNOW AWND Pearsons correlation: 0.014\n",
            "TMAX n_stations Pearsons correlation: 0.140\n",
            "TMAX PRCP Pearsons correlation: -0.018\n",
            "TMAX SNWD Pearsons correlation: -0.430\n",
            "TMAX SNOW Pearsons correlation: -0.220\n",
            "TMAX TMAX Pearsons correlation: 1.000\n",
            "TMAX TMIN Pearsons correlation: 0.966\n",
            "TMAX AWND Pearsons correlation: -0.014\n",
            "TMIN n_stations Pearsons correlation: 0.137\n",
            "TMIN PRCP Pearsons correlation: 0.006\n",
            "TMIN SNWD Pearsons correlation: -0.441\n",
            "TMIN SNOW Pearsons correlation: -0.222\n",
            "TMIN TMAX Pearsons correlation: 0.966\n",
            "TMIN TMIN Pearsons correlation: 1.000\n",
            "TMIN AWND Pearsons correlation: -0.008\n",
            "AWND n_stations Pearsons correlation: -0.126\n",
            "AWND PRCP Pearsons correlation: 0.027\n",
            "AWND SNWD Pearsons correlation: 0.015\n",
            "AWND SNOW Pearsons correlation: 0.014\n",
            "AWND TMAX Pearsons correlation: -0.014\n",
            "AWND TMIN Pearsons correlation: -0.008\n",
            "AWND AWND Pearsons correlation: 1.000\n"
          ],
          "name": "stdout"
        }
      ]
    },
    {
      "cell_type": "markdown",
      "metadata": {
        "id": "ITFOjR0CxgAx",
        "colab_type": "text"
      },
      "source": [
        "Include your discussion of the plots, outliers, and other things you noticed here"
      ]
    },
    {
      "cell_type": "markdown",
      "metadata": {
        "id": "OAuh2eRMPS5n",
        "colab_type": "text"
      },
      "source": [
        "There are some comments under each plot and here’s a summary. We determine the outlier and strange if the z-score is greater than 3. There are 77 outliers in the train set and 14 in the test set. We can remove the rows with the outlier values. There is no missing data in both train/testing set. Correlations among predictors are within [−0.4,0.3], which are not strongly correlated to each other. But Variable TMIN, TMAX have strong correlations 0.966. There’s a linear relationship between max temperature and min temperature. TMIN and TMAX also have high correlation to the number of trips."
      ]
    },
    {
      "cell_type": "markdown",
      "metadata": {
        "id": "0id69FP4xgCD",
        "colab_type": "text"
      },
      "source": [
        "## Comment\n",
        "\n",
        "For the rest of this problem, you will train your models on the training data and evaluate them on the test data."
      ]
    },
    {
      "cell_type": "markdown",
      "metadata": {
        "id": "iW64zH8kxgCD",
        "colab_type": "text"
      },
      "source": [
        "## Part c: Linear regression (25 pts)\n",
        "\n",
        "Fit a linear regression model to predict the number of trips. Include all the covariates (aka, predictors, features) in the data. Print the summary of your model using the statsmodels `summary` command. "
      ]
    },
    {
      "cell_type": "code",
      "metadata": {
        "id": "XHqJN0-ixgCO",
        "colab_type": "code",
        "colab": {}
      },
      "source": [
        "import statsmodels.formula.api as smf"
      ],
      "execution_count": 31,
      "outputs": []
    },
    {
      "cell_type": "code",
      "metadata": {
        "id": "OHdRylhFQlcP",
        "colab_type": "code",
        "colab": {}
      },
      "source": [
        "X_train = merged_train_drop.iloc[:,1:]\n",
        "y_train = merged_train_drop.trips\n",
        "X_test = merged_test_drop.iloc[:,1:]\n",
        "y_test = merged_test_drop.trips"
      ],
      "execution_count": 32,
      "outputs": []
    },
    {
      "cell_type": "code",
      "metadata": {
        "id": "wSVL2h98U2h6",
        "colab_type": "code",
        "colab": {}
      },
      "source": [
        "from sklearn.preprocessing import LabelEncoder\n",
        "le = LabelEncoder()\n",
        "X_train['month'] = le.fit_transform(X_train['month'])\n",
        "X_train['dayofweek'] = le.fit_transform(X_train['dayofweek'])\n",
        "X_test['month'] = le.fit_transform(X_test['month'])\n",
        "X_test['dayofweek'] = le.fit_transform(X_test['dayofweek'])"
      ],
      "execution_count": 33,
      "outputs": []
    },
    {
      "cell_type": "code",
      "metadata": {
        "id": "lTaIXG9mVaIB",
        "colab_type": "code",
        "colab": {
          "base_uri": "https://localhost:8080/",
          "height": 201
        },
        "outputId": "45603831-a0c6-4eaa-d446-f1d1f51a8dcc"
      },
      "source": [
        "X_train.head()"
      ],
      "execution_count": 34,
      "outputs": [
        {
          "output_type": "execute_result",
          "data": {
            "text/html": [
              "<div>\n",
              "<style scoped>\n",
              "    .dataframe tbody tr th:only-of-type {\n",
              "        vertical-align: middle;\n",
              "    }\n",
              "\n",
              "    .dataframe tbody tr th {\n",
              "        vertical-align: top;\n",
              "    }\n",
              "\n",
              "    .dataframe thead th {\n",
              "        text-align: right;\n",
              "    }\n",
              "</style>\n",
              "<table border=\"1\" class=\"dataframe\">\n",
              "  <thead>\n",
              "    <tr style=\"text-align: right;\">\n",
              "      <th></th>\n",
              "      <th>n_stations</th>\n",
              "      <th>holiday</th>\n",
              "      <th>month</th>\n",
              "      <th>dayofweek</th>\n",
              "      <th>PRCP</th>\n",
              "      <th>SNWD</th>\n",
              "      <th>SNOW</th>\n",
              "      <th>TMAX</th>\n",
              "      <th>TMIN</th>\n",
              "      <th>AWND</th>\n",
              "    </tr>\n",
              "  </thead>\n",
              "  <tbody>\n",
              "    <tr>\n",
              "      <th>0</th>\n",
              "      <td>326</td>\n",
              "      <td>False</td>\n",
              "      <td>5</td>\n",
              "      <td>1</td>\n",
              "      <td>0.84</td>\n",
              "      <td>0.0</td>\n",
              "      <td>0.0</td>\n",
              "      <td>77</td>\n",
              "      <td>72</td>\n",
              "      <td>3.1</td>\n",
              "    </tr>\n",
              "    <tr>\n",
              "      <th>1</th>\n",
              "      <td>327</td>\n",
              "      <td>False</td>\n",
              "      <td>5</td>\n",
              "      <td>5</td>\n",
              "      <td>0.08</td>\n",
              "      <td>0.0</td>\n",
              "      <td>0.0</td>\n",
              "      <td>82</td>\n",
              "      <td>72</td>\n",
              "      <td>2.7</td>\n",
              "    </tr>\n",
              "    <tr>\n",
              "      <th>2</th>\n",
              "      <td>326</td>\n",
              "      <td>False</td>\n",
              "      <td>5</td>\n",
              "      <td>6</td>\n",
              "      <td>0.53</td>\n",
              "      <td>0.0</td>\n",
              "      <td>0.0</td>\n",
              "      <td>83</td>\n",
              "      <td>73</td>\n",
              "      <td>4.3</td>\n",
              "    </tr>\n",
              "    <tr>\n",
              "      <th>3</th>\n",
              "      <td>326</td>\n",
              "      <td>True</td>\n",
              "      <td>5</td>\n",
              "      <td>4</td>\n",
              "      <td>0.00</td>\n",
              "      <td>0.0</td>\n",
              "      <td>0.0</td>\n",
              "      <td>87</td>\n",
              "      <td>75</td>\n",
              "      <td>4.3</td>\n",
              "    </tr>\n",
              "    <tr>\n",
              "      <th>4</th>\n",
              "      <td>325</td>\n",
              "      <td>False</td>\n",
              "      <td>5</td>\n",
              "      <td>0</td>\n",
              "      <td>0.00</td>\n",
              "      <td>0.0</td>\n",
              "      <td>0.0</td>\n",
              "      <td>90</td>\n",
              "      <td>76</td>\n",
              "      <td>4.9</td>\n",
              "    </tr>\n",
              "  </tbody>\n",
              "</table>\n",
              "</div>"
            ],
            "text/plain": [
              "   n_stations  holiday  month  dayofweek  PRCP  SNWD  SNOW  TMAX  TMIN  AWND\n",
              "0         326    False      5          1  0.84   0.0   0.0    77    72   3.1\n",
              "1         327    False      5          5  0.08   0.0   0.0    82    72   2.7\n",
              "2         326    False      5          6  0.53   0.0   0.0    83    73   4.3\n",
              "3         326     True      5          4  0.00   0.0   0.0    87    75   4.3\n",
              "4         325    False      5          0  0.00   0.0   0.0    90    76   4.9"
            ]
          },
          "metadata": {
            "tags": []
          },
          "execution_count": 34
        }
      ]
    },
    {
      "cell_type": "code",
      "metadata": {
        "id": "8pdhHEsSRxuM",
        "colab_type": "code",
        "colab": {
          "base_uri": "https://localhost:8080/",
          "height": 32
        },
        "outputId": "475158c5-d057-4234-df37-8df0a14e6a1d"
      },
      "source": [
        "from sklearn import linear_model\n",
        "from sklearn.metrics import r2_score, mean_squared_error\n",
        "\n",
        "lm = linear_model.LinearRegression()\n",
        "model = lm.fit(X_train, y_train)\n",
        "y_pred = lm.predict(X_test)\n",
        "y_pred_tr = lm.predict(X_train)\n",
        "test_mse = mean_squared_error(y_test, y_pred)\n",
        "test_r2 = r2_score(y_test, y_pred)\n",
        "train_r2 = r2_score(y_train, y_pred_tr)\n",
        "train_mse = mean_squared_error(y_train, y_pred_tr)\n",
        "print('train mse: %.2f train_r2: %.2f test mse: %.2f test r2: %.2f' % (train_mse, train_r2, test_mse, test_r2))"
      ],
      "execution_count": 35,
      "outputs": [
        {
          "output_type": "stream",
          "text": [
            "train mse: 27486393.31 train_r2: 0.79 test mse: 109157492.89 test r2: 0.15\n"
          ],
          "name": "stdout"
        }
      ]
    },
    {
      "cell_type": "code",
      "metadata": {
        "id": "MoInwqFTRn9o",
        "colab_type": "code",
        "colab": {
          "base_uri": "https://localhost:8080/",
          "height": 856
        },
        "outputId": "a33dcbf5-57e0-4995-8a16-7d6ec77ae16d"
      },
      "source": [
        "# Because there's no summary in sklearn, I switch to use statsmodels\n",
        "mod = smf.ols(formula='trips ~ (n_stations+holiday+month+dayofweek+PRCP+SNWD+SNOW+TMAX+TMIN+AWND)+1', data=merged_train).fit()\n",
        "print(mod.summary())"
      ],
      "execution_count": 36,
      "outputs": [
        {
          "output_type": "stream",
          "text": [
            "                            OLS Regression Results                            \n",
            "==============================================================================\n",
            "Dep. Variable:                  trips   R-squared:                       0.873\n",
            "Model:                            OLS   Adj. R-squared:                  0.870\n",
            "Method:                 Least Squares   F-statistic:                     268.5\n",
            "Date:                Wed, 16 Sep 2020   Prob (F-statistic):               0.00\n",
            "Time:                        03:22:17   Log-Likelihood:                -9747.3\n",
            "No. Observations:                1001   AIC:                         1.955e+04\n",
            "Df Residuals:                     975   BIC:                         1.967e+04\n",
            "Df Model:                          25                                         \n",
            "Covariance Type:            nonrobust                                         \n",
            "======================================================================================\n",
            "                         coef    std err          t      P>|t|      [0.025      0.975]\n",
            "--------------------------------------------------------------------------------------\n",
            "Intercept          -1.611e+04   1320.888    -12.194      0.000   -1.87e+04   -1.35e+04\n",
            "holiday[T.True]    -1.058e+04    805.400    -13.138      0.000   -1.22e+04   -9001.089\n",
            "month[T.Aug]        4468.0243    805.891      5.544      0.000    2886.544    6049.505\n",
            "month[T.Dec]       -2764.7084    755.960     -3.657      0.000   -4248.204   -1281.213\n",
            "month[T.Feb]       -5353.6730    922.892     -5.801      0.000   -7164.756   -3542.590\n",
            "month[T.Jan]       -4875.6281    836.122     -5.831      0.000   -6516.434   -3234.822\n",
            "month[T.Jul]        2719.9104    836.859      3.250      0.001    1077.657    4362.163\n",
            "month[T.Jun]        4527.3699    835.066      5.422      0.000    2888.636    6166.104\n",
            "month[T.Mar]       -3525.1716    761.142     -4.631      0.000   -5018.837   -2031.506\n",
            "month[T.May]        3747.0127    788.611      4.751      0.000    2199.443    5294.583\n",
            "month[T.Nov]        2070.4324    730.316      2.835      0.005     637.261    3503.604\n",
            "month[T.Oct]        6631.8221    714.951      9.276      0.000    5228.801    8034.843\n",
            "month[T.Sep]        6905.1192    760.242      9.083      0.000    5413.221    8397.017\n",
            "dayofweek[T.Mon]    -729.6511    495.403     -1.473      0.141   -1701.830     242.528\n",
            "dayofweek[T.Sat]   -5105.2365    494.845    -10.317      0.000   -6076.320   -4134.153\n",
            "dayofweek[T.Sun]   -6072.2752    496.234    -12.237      0.000   -7046.085   -5098.465\n",
            "dayofweek[T.Thurs]   697.2658    491.091      1.420      0.156    -266.451    1660.982\n",
            "dayofweek[T.Tues]    -92.0181    494.428     -0.186      0.852   -1062.283     878.247\n",
            "dayofweek[T.Wed]     915.6479    493.435      1.856      0.064     -52.669    1883.965\n",
            "n_stations            68.9045      2.888     23.855      0.000      63.236      74.573\n",
            "PRCP               -8214.3391    396.200    -20.733      0.000   -8991.842   -7436.836\n",
            "SNWD                -215.1752     62.855     -3.423      0.001    -338.521     -91.829\n",
            "SNOW                   2.3998    188.650      0.013      0.990    -367.808     372.607\n",
            "TMAX                 352.8827     29.709     11.878      0.000     294.581     411.184\n",
            "TMIN                 -73.3230     32.807     -2.235      0.026    -137.704      -8.942\n",
            "AWND                   0.7647      0.244      3.138      0.002       0.287       1.243\n",
            "==============================================================================\n",
            "Omnibus:                       56.833   Durbin-Watson:                   1.150\n",
            "Prob(Omnibus):                  0.000   Jarque-Bera (JB):              123.489\n",
            "Skew:                          -0.345   Prob(JB):                     1.53e-27\n",
            "Kurtosis:                       4.577   Cond. No.                     8.22e+03\n",
            "==============================================================================\n",
            "\n",
            "Warnings:\n",
            "[1] Standard Errors assume that the covariance matrix of the errors is correctly specified.\n",
            "[2] The condition number is large, 8.22e+03. This might indicate that there are\n",
            "strong multicollinearity or other numerical problems.\n"
          ],
          "name": "stdout"
        }
      ]
    },
    {
      "cell_type": "markdown",
      "metadata": {
        "id": "FAkGCR-hxgCU",
        "colab_type": "text"
      },
      "source": [
        "Find the \"best\" linear model that uses only $q$ variables (where including the intercept counts as one of the variables),\n",
        "for each $q=1,2,3,4,5$.  It is up to you to choose how to select the \"best\" subset of variables. \n",
        "(A categorical variable or factor such as \"month\" corresponds to a single variable.) Describe how you selected \n",
        "each model. Give the $R^2$ and the mean squared error (MSE) on the training and test set for each of the models. \n",
        "Which model gives the best fit on the training set? Which on the test set? Comment on your findings."
      ]
    },
    {
      "cell_type": "markdown",
      "metadata": {
        "id": "Ua5vmA29ynek",
        "colab_type": "text"
      },
      "source": [
        "ANS:"
      ]
    },
    {
      "cell_type": "markdown",
      "metadata": {
        "id": "jBwwyS1L7p9j",
        "colab_type": "text"
      },
      "source": [
        "I would like to use forward selection\n",
        "- Start with the intercept-only model\n",
        "- For every possible model that adds one term, evaluate the \"score\" (MSE, $R^2$, smallest p-value)\n",
        "- Choose the one with the best $R^2$\n",
        "- Repeat until either adding a new term doesn’t improve themodel or all variables are included"
      ]
    },
    {
      "cell_type": "code",
      "metadata": {
        "id": "z4ZHUVo8WTPi",
        "colab_type": "code",
        "colab": {
          "base_uri": "https://localhost:8080/",
          "height": 49
        },
        "outputId": "d1134dbf-3e9d-4298-cc18-e32bcc66b1bd"
      },
      "source": [
        "# q = 0\n",
        "mod = smf.ols(formula='trips ~ 1', data=merged_train_drop)\n",
        "res = mod.fit()\n",
        "print(\"MSE\",np.sum((res.predict(merged_train_drop) - merged_train_drop['trips'])**2) / merged_train_drop.shape[0]) \n",
        "print(\"R2\", 1-np.sum((res.predict(merged_train_drop) - merged_train_drop['trips'])**2)/np.sum((merged_train_drop['trips'])**2))"
      ],
      "execution_count": 37,
      "outputs": [
        {
          "output_type": "stream",
          "text": [
            "MSE 132519912.4050974\n",
            "R2 0.8253102302780994\n"
          ],
          "name": "stdout"
        }
      ]
    },
    {
      "cell_type": "code",
      "metadata": {
        "id": "GksXFF5ixgCV",
        "colab_type": "code",
        "colab": {
          "base_uri": "https://localhost:8080/",
          "height": 345
        },
        "outputId": "87e686f5-8bf1-406f-ff88-c31e67ab4cec"
      },
      "source": [
        "# q = 1\n",
        "mod = smf.ols(formula='trips ~ n_stations + 1', data=merged_train_drop)\n",
        "res = mod.fit()\n",
        "print(\"+n_stations trips MSE\",np.sum((res.predict(merged_train_drop) - merged_train_drop['trips'])**2) / merged_train_drop.shape[0]) \n",
        "print(\"+n_stations R2\", 1-np.sum((res.predict(merged_train_drop) - merged_train_drop['trips'])**2)/np.sum((merged_train_drop['trips'])**2))\n",
        "\n",
        "\n",
        "mod = smf.ols(formula='trips ~ holiday + 1', data=merged_train_drop)\n",
        "res = mod.fit()\n",
        "print(\"+holiday MSE\",np.sum((res.predict(merged_train_drop) - merged_train_drop['trips'])**2) / merged_train_drop.shape[0]) \n",
        "print(\"+holiday R2\", 1-np.sum((res.predict(merged_train_drop) - merged_train_drop['trips'])**2)/np.sum((merged_train_drop['trips'])**2))\n",
        "\n",
        "\n",
        "mod = smf.ols(formula='trips ~ month + 1', data=merged_train_drop)\n",
        "res = mod.fit()\n",
        "print(\"+month MSE\",np.sum((res.predict(merged_train_drop) - merged_train_drop['trips'])**2) / merged_train_drop.shape[0]) \n",
        "print(\"+month R2\", 1-np.sum((res.predict(merged_train_drop) - merged_train_drop['trips'])**2)/np.sum((merged_train_drop['trips'])**2))\n",
        "\n",
        "\n",
        "mod = smf.ols(formula='trips ~ dayofweek + 1', data=merged_train_drop)\n",
        "res = mod.fit()\n",
        "print(\"+dayofweek MSE\",np.sum((res.predict(merged_train_drop) - merged_train_drop['trips'])**2) / merged_train_drop.shape[0]) \n",
        "print(\"+dayofweek R2\", 1-np.sum((res.predict(merged_train_drop) - merged_train_drop['trips'])**2)/np.sum((merged_train_drop['trips'])**2))\n",
        "\n",
        "mod = smf.ols(formula='trips ~ PRCP + 1', data=merged_train_drop)\n",
        "res = mod.fit()\n",
        "print(\"+PRCP MSE\",np.sum((res.predict(merged_train_drop) - merged_train_drop['trips'])**2) / merged_train_drop.shape[0]) \n",
        "print(\"+PRCP R2\", 1-np.sum((res.predict(merged_train_drop) - merged_train_drop['trips'])**2)/np.sum((merged_train_drop['trips'])**2))\n",
        "\n",
        "\n",
        "mod = smf.ols(formula='trips ~ SNWD + 1', data=merged_train_drop)\n",
        "res = mod.fit()\n",
        "print(\"+SNWD MSE\",np.sum((res.predict(merged_train_drop) - merged_train_drop['trips'])**2) / merged_train_drop.shape[0]) \n",
        "print(\"+SNWD R2\", 1-np.sum((res.predict(merged_train_drop) - merged_train_drop['trips'])**2)/np.sum((merged_train_drop['trips'])**2))\n",
        "\n",
        "mod = smf.ols(formula='trips ~ SNOW + 1', data=merged_train_drop)\n",
        "res = mod.fit()\n",
        "print(\"+SNOW MSE\",np.sum((res.predict(merged_train_drop) - merged_train_drop['trips'])**2) / merged_train_drop.shape[0]) \n",
        "print(\"+SNOW R2\", 1-np.sum((res.predict(merged_train_drop) - merged_train_drop['trips'])**2)/np.sum((merged_train_drop['trips'])**2))\n",
        "\n",
        "\n",
        "mod = smf.ols(formula='trips ~ TMAX + 1', data=merged_train_drop)\n",
        "res = mod.fit()\n",
        "print(\"+TMAX MSE\",np.sum((res.predict(merged_train_drop) - merged_train_drop['trips'])**2) / merged_train_drop.shape[0]) \n",
        "print(\"+TMAX R2\", 1-np.sum((res.predict(merged_train_drop) - merged_train_drop['trips'])**2)/np.sum((merged_train_drop['trips'])**2))\n",
        "\n",
        "mod = smf.ols(formula='trips ~ TMIN + 1', data=merged_train_drop)\n",
        "res = mod.fit()\n",
        "print(\"+TMIN MSE\",np.sum((res.predict(merged_train_drop) - merged_train_drop['trips'])**2) / merged_train_drop.shape[0]) \n",
        "print(\"+TMIN R2\", 1-np.sum((res.predict(merged_train_drop) - merged_train_drop['trips'])**2)/np.sum((merged_train_drop['trips'])**2))\n",
        "\n",
        "mod = smf.ols(formula='trips ~ AWND + 1', data=merged_train_drop)\n",
        "res = mod.fit()\n",
        "print(\"+AWND MSE\",np.sum((res.predict(merged_train_drop) - merged_train_drop['trips'])**2) / merged_train_drop.shape[0]) \n",
        "print(\"+AWND R2\", 1-np.sum((res.predict(merged_train_drop) - merged_train_drop['trips'])**2)/np.sum((merged_train_drop['trips'])**2))"
      ],
      "execution_count": 38,
      "outputs": [
        {
          "output_type": "stream",
          "text": [
            "+n_stations trips MSE 125251190.6755415\n",
            "+n_stations R2 0.8348919701243133\n",
            "+holiday MSE 128490234.51703537\n",
            "+holiday R2 0.8306222131306621\n",
            "+month MSE 60982917.758135386\n",
            "+month R2 0.9196113877016983\n",
            "+dayofweek MSE 126712613.31635228\n",
            "+dayofweek R2 0.8329655005096247\n",
            "+PRCP MSE 123101861.65509982\n",
            "+PRCP R2 0.8377252484205575\n",
            "+SNWD MSE 103596530.46077202\n",
            "+SNWD R2 0.8634374734956132\n",
            "+SNOW MSE 122924693.41638775\n",
            "+SNOW R2 0.8379587942949922\n",
            "+TMAX MSE 56177112.70374984\n",
            "+TMAX R2 0.9259464732223757\n",
            "+TMIN MSE 60830723.10544002\n",
            "+TMIN R2 0.9198120130141494\n",
            "+AWND MSE 132121376.10202503\n",
            "+AWND R2 0.8258355869112725\n"
          ],
          "name": "stdout"
        }
      ]
    },
    {
      "cell_type": "markdown",
      "metadata": {
        "id": "WonTYwGZ3qLr",
        "colab_type": "text"
      },
      "source": [
        "TMAX gives the best R2. "
      ]
    },
    {
      "cell_type": "code",
      "metadata": {
        "id": "iTuk1ewJ3ja9",
        "colab_type": "code",
        "colab": {
          "base_uri": "https://localhost:8080/",
          "height": 312
        },
        "outputId": "4f430c74-4504-458b-8488-aa3d59a76ee3"
      },
      "source": [
        "# q = 2\n",
        "mod = smf.ols(formula='trips ~ (TMAX + n_stations) + 1', data=merged_train_drop)\n",
        "res = mod.fit()\n",
        "print(\"+n_stations trips MSE\",np.sum((res.predict(merged_train_drop) - merged_train_drop['trips'])**2) / merged_train_drop.shape[0]) \n",
        "print(\"+n_stations R2\", 1-np.sum((res.predict(merged_train_drop) - merged_train_drop['trips'])**2)/np.sum((merged_train_drop['trips'])**2))\n",
        "\n",
        "\n",
        "mod = smf.ols(formula='trips ~ (TMAX + holiday) + 1', data=merged_train_drop)\n",
        "res = mod.fit()\n",
        "print(\"+holiday MSE\",np.sum((res.predict(merged_train_drop) - merged_train_drop['trips'])**2) / merged_train_drop.shape[0]) \n",
        "print(\"+holiday R2\", 1-np.sum((res.predict(merged_train_drop) - merged_train_drop['trips'])**2)/np.sum((merged_train_drop['trips'])**2))\n",
        "\n",
        "\n",
        "mod = smf.ols(formula='trips ~ (TMAX + month) + 1', data=merged_train_drop)\n",
        "res = mod.fit()\n",
        "print(\"+month MSE\",np.sum((res.predict(merged_train_drop) - merged_train_drop['trips'])**2) / merged_train_drop.shape[0]) \n",
        "print(\"+month R2\", 1-np.sum((res.predict(merged_train_drop) - merged_train_drop['trips'])**2)/np.sum((merged_train_drop['trips'])**2))\n",
        "\n",
        "\n",
        "mod = smf.ols(formula='trips ~ (TMAX + dayofweek) + 1', data=merged_train_drop)\n",
        "res = mod.fit()\n",
        "print(\"+dayofweek MSE\",np.sum((res.predict(merged_train_drop) - merged_train_drop['trips'])**2) / merged_train_drop.shape[0]) \n",
        "print(\"+dayofweek R2\", 1-np.sum((res.predict(merged_train_drop) - merged_train_drop['trips'])**2)/np.sum((merged_train_drop['trips'])**2))\n",
        "\n",
        "mod = smf.ols(formula='trips ~ (TMAX + PRCP) + 1', data=merged_train_drop)\n",
        "res = mod.fit()\n",
        "print(\"+PRCP MSE\",np.sum((res.predict(merged_train_drop) - merged_train_drop['trips'])**2) / merged_train_drop.shape[0]) \n",
        "print(\"+PRCP R2\", 1-np.sum((res.predict(merged_train_drop) - merged_train_drop['trips'])**2)/np.sum((merged_train_drop['trips'])**2))\n",
        "\n",
        "\n",
        "mod = smf.ols(formula='trips ~ (TMAX + SNWD) + 1', data=merged_train_drop)\n",
        "res = mod.fit()\n",
        "print(\"+SNWD MSE\",np.sum((res.predict(merged_train_drop) - merged_train_drop['trips'])**2) / merged_train_drop.shape[0]) \n",
        "print(\"+SNWD R2\", 1-np.sum((res.predict(merged_train_drop) - merged_train_drop['trips'])**2)/np.sum((merged_train_drop['trips'])**2))\n",
        "\n",
        "mod = smf.ols(formula='trips ~ (TMAX + SNOW) + 1', data=merged_train_drop)\n",
        "res = mod.fit()\n",
        "print(\"+SNOW MSE\",np.sum((res.predict(merged_train_drop) - merged_train_drop['trips'])**2) / merged_train_drop.shape[0]) \n",
        "print(\"+SNOW R2\", 1-np.sum((res.predict(merged_train_drop) - merged_train_drop['trips'])**2)/np.sum((merged_train_drop['trips'])**2))\n",
        "\n",
        "mod = smf.ols(formula='trips ~ (TMAX + TMIN) + 1', data=merged_train_drop)\n",
        "res = mod.fit()\n",
        "print(\"+TMIN MSE\",np.sum((res.predict(merged_train_drop) - merged_train_drop['trips'])**2) / merged_train_drop.shape[0]) \n",
        "print(\"+TMIN R2\", 1-np.sum((res.predict(merged_train_drop) - merged_train_drop['trips'])**2)/np.sum((merged_train_drop['trips'])**2))\n",
        "\n",
        "mod = smf.ols(formula='trips ~ (TMAX + AWND) + 1', data=merged_train_drop)\n",
        "res = mod.fit()\n",
        "print(\"+AWND MSE\",np.sum((res.predict(merged_train_drop) - merged_train_drop['trips'])**2) / merged_train_drop.shape[0]) \n",
        "print(\"+AWND R2\", 1-np.sum((res.predict(merged_train_drop) - merged_train_drop['trips'])**2)/np.sum((merged_train_drop['trips'])**2))"
      ],
      "execution_count": 39,
      "outputs": [
        {
          "output_type": "stream",
          "text": [
            "+n_stations trips MSE 42644787.53353209\n",
            "+n_stations R2 0.943784990656351\n",
            "+holiday MSE 54149202.838792644\n",
            "+holiday R2 0.9286196949359792\n",
            "+month MSE 46798378.11805777\n",
            "+month R2 0.9383096641973974\n",
            "+dayofweek MSE 50033743.91233484\n",
            "+dayofweek R2 0.9340447556616849\n",
            "+PRCP MSE 47528906.5798819\n",
            "+PRCP R2 0.9373466704370239\n",
            "+SNWD MSE 52957627.20783614\n",
            "+SNWD R2 0.9301904481065797\n",
            "+SNOW MSE 54731550.92165602\n",
            "+SNOW R2 0.9278520348111942\n",
            "+TMIN MSE 56170584.95286209\n",
            "+TMIN R2 0.9259550782031569\n",
            "+AWND MSE 56081623.13430013\n",
            "+AWND R2 0.9260723490292281\n"
          ],
          "name": "stdout"
        }
      ]
    },
    {
      "cell_type": "markdown",
      "metadata": {
        "id": "auqqd5af4ESR",
        "colab_type": "text"
      },
      "source": [
        "n_stations gives the best R2. "
      ]
    },
    {
      "cell_type": "code",
      "metadata": {
        "id": "OKmfCLS44KAs",
        "colab_type": "code",
        "colab": {
          "base_uri": "https://localhost:8080/",
          "height": 280
        },
        "outputId": "c022d7a1-3507-4b12-e91d-429ccd1f901a"
      },
      "source": [
        "# q = 3\n",
        "mod = smf.ols(formula='trips ~ (n_stations + TMAX + holiday) + 1', data=merged_train_drop)\n",
        "res = mod.fit()\n",
        "print(\"+holiday MSE\",np.sum((res.predict(merged_train_drop) - merged_train_drop['trips'])**2) / merged_train_drop.shape[0]) \n",
        "print(\"+holiday R2\", 1-np.sum((res.predict(merged_train_drop) - merged_train_drop['trips'])**2)/np.sum((merged_train_drop['trips'])**2))\n",
        "\n",
        "\n",
        "mod = smf.ols(formula='trips ~ (n_stations + TMAX + month) + 1', data=merged_train_drop)\n",
        "res = mod.fit()\n",
        "print(\"+month MSE\",np.sum((res.predict(merged_train_drop) - merged_train_drop['trips'])**2) / merged_train_drop.shape[0]) \n",
        "print(\"+month R2\", 1-np.sum((res.predict(merged_train_drop) - merged_train_drop['trips'])**2)/np.sum((merged_train_drop['trips'])**2))\n",
        "\n",
        "\n",
        "mod = smf.ols(formula='trips ~ (n_stations + TMAX + dayofweek) + 1', data=merged_train_drop)\n",
        "res = mod.fit()\n",
        "print(\"+dayofweek MSE\",np.sum((res.predict(merged_train_drop) - merged_train_drop['trips'])**2) / merged_train_drop.shape[0]) \n",
        "print(\"+dayofweek R2\", 1-np.sum((res.predict(merged_train_drop) - merged_train_drop['trips'])**2)/np.sum((merged_train_drop['trips'])**2))\n",
        "\n",
        "mod = smf.ols(formula='trips ~ (n_stations + TMAX + PRCP) + 1', data=merged_train_drop)\n",
        "res = mod.fit()\n",
        "print(\"+PRCP MSE\",np.sum((res.predict(merged_train_drop) - merged_train_drop['trips'])**2) / merged_train_drop.shape[0]) \n",
        "print(\"+PRCP R2\", 1-np.sum((res.predict(merged_train_drop) - merged_train_drop['trips'])**2)/np.sum((merged_train_drop['trips'])**2))\n",
        "\n",
        "\n",
        "mod = smf.ols(formula='trips ~ (n_stations + TMAX + SNWD) + 1', data=merged_train_drop)\n",
        "res = mod.fit()\n",
        "print(\"+SNWD MSE\",np.sum((res.predict(merged_train_drop) - merged_train_drop['trips'])**2) / merged_train_drop.shape[0]) \n",
        "print(\"+SNWD R2\", 1-np.sum((res.predict(merged_train_drop) - merged_train_drop['trips'])**2)/np.sum((merged_train_drop['trips'])**2))\n",
        "\n",
        "mod = smf.ols(formula='trips ~ (n_stations + TMAX + SNOW) + 1', data=merged_train_drop)\n",
        "res = mod.fit()\n",
        "print(\"+SNOW MSE\",np.sum((res.predict(merged_train_drop) - merged_train_drop['trips'])**2) / merged_train_drop.shape[0]) \n",
        "print(\"+SNOW R2\", 1-np.sum((res.predict(merged_train_drop) - merged_train_drop['trips'])**2)/np.sum((merged_train_drop['trips'])**2))\n",
        "\n",
        "mod = smf.ols(formula='trips ~ (n_stations + TMAX + TMIN) + 1', data=merged_train_drop)\n",
        "res = mod.fit()\n",
        "print(\"+TMIN MSE\",np.sum((res.predict(merged_train_drop) - merged_train_drop['trips'])**2) / merged_train_drop.shape[0]) \n",
        "print(\"+TMIN R2\", 1-np.sum((res.predict(merged_train_drop) - merged_train_drop['trips'])**2)/np.sum((merged_train_drop['trips'])**2))\n",
        "\n",
        "mod = smf.ols(formula='trips ~ (n_stations + TMAX + AWND) + 1', data=merged_train_drop)\n",
        "res = mod.fit()\n",
        "print(\"+AWND MSE\",np.sum((res.predict(merged_train_drop) - merged_train_drop['trips'])**2) / merged_train_drop.shape[0]) \n",
        "print(\"+AWND R2\", 1-np.sum((res.predict(merged_train_drop) - merged_train_drop['trips'])**2)/np.sum((merged_train_drop['trips'])**2))"
      ],
      "execution_count": 40,
      "outputs": [
        {
          "output_type": "stream",
          "text": [
            "+holiday MSE 40500685.60960423\n",
            "+holiday R2 0.9466113785142473\n",
            "+month MSE 33595578.731928654\n",
            "+month R2 0.9557137957168703\n",
            "+dayofweek MSE 36820338.470116474\n",
            "+dayofweek R2 0.9514628682460579\n",
            "+PRCP MSE 34854732.309473746\n",
            "+PRCP R2 0.9540539602663799\n",
            "+SNWD MSE 41635908.34888768\n",
            "+SNWD R2 0.9451149105849426\n",
            "+SNOW MSE 42011722.11544839\n",
            "+SNOW R2 0.9446195071459625\n",
            "+TMIN MSE 42630449.38987028\n",
            "+TMIN R2 0.943803891416011\n",
            "+AWND MSE 42389861.32204792\n",
            "+AWND R2 0.9441210382764559\n"
          ],
          "name": "stdout"
        }
      ]
    },
    {
      "cell_type": "markdown",
      "metadata": {
        "id": "3IOmDvpB4Vm-",
        "colab_type": "text"
      },
      "source": [
        "month gives the highest R2"
      ]
    },
    {
      "cell_type": "code",
      "metadata": {
        "id": "nP_2nrRy4JWD",
        "colab_type": "code",
        "colab": {
          "base_uri": "https://localhost:8080/",
          "height": 247
        },
        "outputId": "d7136190-04b0-4a5d-b97e-2dc71b60cc8b"
      },
      "source": [
        "# q = 3\n",
        "mod = smf.ols(formula='trips ~ (month + n_stations + TMAX + holiday) + 1', data=merged_train)\n",
        "res = mod.fit()\n",
        "print(\"+holiday MSE\",np.sum((res.predict(merged_train) - merged_train['trips'])**2) / merged_train.shape[0]) \n",
        "print(\"+holiday R2\", 1-np.sum((res.predict(merged_train) - merged_train['trips'])**2)/np.sum((merged_train['trips'])**2))\n",
        "\n",
        "mod = smf.ols(formula='trips ~ (month + n_stations + TMAX + dayofweek) + 1', data=merged_train)\n",
        "res = mod.fit()\n",
        "print(\"+dayofweek MSE\",np.sum((res.predict(merged_train) - merged_train['trips'])**2) / merged_train.shape[0]) \n",
        "print(\"+dayofweek R2\", 1-np.sum((res.predict(merged_train) - merged_train['trips'])**2)/np.sum((merged_train['trips'])**2))\n",
        "\n",
        "mod = smf.ols(formula='trips ~ (month + n_stations + TMAX + PRCP) + 1', data=merged_train)\n",
        "res = mod.fit()\n",
        "print(\"+PRCP MSE\",np.sum((res.predict(merged_train) - merged_train['trips'])**2) / merged_train.shape[0]) \n",
        "print(\"+PRCP R2\", 1-np.sum((res.predict(merged_train) - merged_train['trips'])**2)/np.sum((merged_train['trips'])**2))\n",
        "\n",
        "mod = smf.ols(formula='trips ~ (month + n_stations + TMAX + SNWD) + 1', data=merged_train)\n",
        "res = mod.fit()\n",
        "print(\"+SNWD MSE\",np.sum((res.predict(merged_train) - merged_train['trips'])**2) / merged_train.shape[0]) \n",
        "print(\"+SNWD R2\", 1-np.sum((res.predict(merged_train) - merged_train['trips'])**2)/np.sum((merged_train['trips'])**2))\n",
        "\n",
        "mod = smf.ols(formula='trips ~ (month + n_stations + TMAX + SNOW) + 1', data=merged_train)\n",
        "res = mod.fit()\n",
        "print(\"+SNOW MSE\",np.sum((res.predict(merged_train) - merged_train['trips'])**2) / merged_train.shape[0]) \n",
        "print(\"+SNOW R2\", 1-np.sum((res.predict(merged_train) - merged_train['trips'])**2)/np.sum((merged_train['trips'])**2))\n",
        "\n",
        "mod = smf.ols(formula='trips ~ (month + n_stations + TMAX + TMIN) + 1', data=merged_train)\n",
        "res = mod.fit()\n",
        "print(\"+TMIN MSE\",np.sum((res.predict(merged_train) - merged_train['trips'])**2) / merged_train.shape[0]) \n",
        "print(\"+TMIN R2\", 1-np.sum((res.predict(merged_train) - merged_train['trips'])**2)/np.sum((merged_train['trips'])**2))\n",
        "\n",
        "mod = smf.ols(formula='trips ~ (month + n_stations + TMAX + AWND) + 1', data=merged_train)\n",
        "res = mod.fit()\n",
        "print(\"+AWND MSE\",np.sum((res.predict(merged_train) - merged_train['trips'])**2) / merged_train.shape[0]) \n",
        "print(\"+AWND R2\", 1-np.sum((res.predict(merged_train) - merged_train['trips'])**2)/np.sum((merged_train['trips'])**2))"
      ],
      "execution_count": 41,
      "outputs": [
        {
          "output_type": "stream",
          "text": [
            "+holiday MSE 31671369.142985586\n",
            "+holiday R2 0.9582503181449986\n",
            "+dayofweek MSE 27901524.350784592\n",
            "+dayofweek R2 0.9632197850476312\n",
            "+PRCP MSE 26548558.880543392\n",
            "+PRCP R2 0.9650032847658896\n",
            "+SNWD MSE 33432501.15309716\n",
            "+SNWD R2 0.95592876706854\n",
            "+SNOW MSE 33249220.497589126\n",
            "+SNOW R2 0.9561703704240214\n",
            "+TMIN MSE 33359750.578095842\n",
            "+TMIN R2 0.9560246679860962\n",
            "+AWND MSE 33265829.0400748\n",
            "+AWND R2 0.9561484767900039\n"
          ],
          "name": "stdout"
        }
      ]
    },
    {
      "cell_type": "markdown",
      "metadata": {
        "id": "a7NXx2zu4nE2",
        "colab_type": "text"
      },
      "source": [
        "PRCP gives the best R2. "
      ]
    },
    {
      "cell_type": "code",
      "metadata": {
        "id": "sryn0TMR50TQ",
        "colab_type": "code",
        "colab": {
          "base_uri": "https://localhost:8080/",
          "height": 345
        },
        "outputId": "a1cbfd29-d283-4ecb-a3ab-46146505e980"
      },
      "source": [
        "# Compute R2 and MSE on train, test set\n",
        "\n",
        "mod = smf.ols(formula='trips ~ (PRCP + month + n_stations + TMAX) + 1', data=merged_train_drop)\n",
        "res = mod.fit()\n",
        "print(\"model 5, train MSE \",np.sum((res.predict(merged_train_drop) - merged_train_drop['trips'])**2) / merged_train_drop.shape[0]) \n",
        "print(\"model 5, train R2 \", 1-np.sum((res.predict(merged_train_drop) - merged_train_drop['trips'])**2)/np.sum((merged_train_drop['trips'])**2))\n",
        "print(\"model 5, test MSE \",np.sum((res.predict(merged_test_drop) - merged_test_drop['trips'])**2) / merged_test_drop.shape[0]) \n",
        "print(\"model 5, test R2 \", 1-np.sum((res.predict(merged_test_drop) - merged_test_drop['trips'])**2)/np.sum((merged_test_drop['trips'])**2))\n",
        "\n",
        "mod = smf.ols(formula='trips ~ (month + n_stations + TMAX) + 1', data=merged_train_drop)\n",
        "res = mod.fit()\n",
        "print(\"model 4, train MSE \",np.sum((res.predict(merged_train_drop) - merged_train_drop['trips'])**2) / merged_train_drop.shape[0]) \n",
        "print(\"model 4, train R2 \", 1-np.sum((res.predict(merged_train_drop) - merged_train_drop['trips'])**2)/np.sum((merged_train_drop['trips'])**2))\n",
        "print(\"model 4, test MSE \",np.sum((res.predict(merged_test_drop) - merged_test_drop['trips'])**2) / merged_test_drop.shape[0]) \n",
        "print(\"model 4, test R2 \", 1-np.sum((res.predict(merged_test_drop) - merged_test_drop['trips'])**2)/np.sum((merged_test_drop['trips'])**2))\n",
        "\n",
        "mod = smf.ols(formula='trips ~ (n_stations + TMAX) + 1', data=merged_train_drop)\n",
        "res = mod.fit()\n",
        "print(\"model 3, train MSE \",np.sum((res.predict(merged_train_drop) - merged_train_drop['trips'])**2) / merged_train_drop.shape[0]) \n",
        "print(\"model 3, train R2 \", 1-np.sum((res.predict(merged_train_drop) - merged_train_drop['trips'])**2)/np.sum((merged_train_drop['trips'])**2))\n",
        "print(\"model 3, test MSE \",np.sum((res.predict(merged_test_drop) - merged_test_drop['trips'])**2) / merged_test_drop.shape[0]) \n",
        "print(\"model 3, test R2 \", 1-np.sum((res.predict(merged_test_drop) - merged_test_drop['trips'])**2)/np.sum((merged_test_drop['trips'])**2))\n",
        "\n",
        "mod = smf.ols(formula='trips ~ (TMAX) + 1', data=merged_train_drop)\n",
        "res = mod.fit()\n",
        "print(\"model 2, train MSE \",np.sum((res.predict(merged_train_drop) - merged_train_drop['trips'])**2) / merged_train_drop.shape[0]) \n",
        "print(\"model 2, train R2 \", 1-np.sum((res.predict(merged_train_drop) - merged_train_drop['trips'])**2)/np.sum((merged_train_drop['trips'])**2))\n",
        "print(\"model 2, test MSE \",np.sum((res.predict(merged_test_drop) - merged_test_drop['trips'])**2) / merged_test_drop.shape[0]) \n",
        "print(\"model 2, test R2 \", 1-np.sum((res.predict(merged_test_drop) - merged_test_drop['trips'])**2)/np.sum((merged_test_drop['trips'])**2))\n",
        "\n",
        "mod = smf.ols(formula='trips ~ 1', data=merged_train_drop)\n",
        "res = mod.fit()\n",
        "print(\"model 1, train MSE \",np.sum((res.predict(merged_train_drop) - merged_train_drop['trips'])**2) / merged_train_drop.shape[0]) \n",
        "print(\"model 1, train R2 \", 1-np.sum((res.predict(merged_train_drop) - merged_train_drop['trips'])**2)/np.sum((merged_train_drop['trips'])**2))\n",
        "print(\"model 1, test MSE \",np.sum((res.predict(merged_test_drop) - merged_test_drop['trips'])**2) / merged_test_drop.shape[0]) \n",
        "print(\"model 1, test R2 \", 1-np.sum((res.predict(merged_test_drop) - merged_test_drop['trips'])**2)/np.sum((merged_test_drop['trips'])**2))\n"
      ],
      "execution_count": 42,
      "outputs": [
        {
          "output_type": "stream",
          "text": [
            "model 5, train MSE  26548558.880543392\n",
            "model 5, train R2  0.9650032847658896\n",
            "model 5, test MSE  63018038.77638053\n",
            "model 5, test R2  0.9709919671845715\n",
            "model 4, train MSE  33595578.731928654\n",
            "model 4, train R2  0.9557137957168703\n",
            "model 4, test MSE  72340656.1718633\n",
            "model 4, test R2  0.9667006436749099\n",
            "model 3, train MSE  42644787.53353209\n",
            "model 3, train R2  0.943784990656351\n",
            "model 3, test MSE  80761363.77489337\n",
            "model 3, test R2  0.9628244811154146\n",
            "model 2, train MSE  56177112.70374984\n",
            "model 2, train R2  0.9259464732223757\n",
            "model 2, test MSE  262384900.55248773\n",
            "model 2, test R2  0.8792207762525253\n",
            "model 1, train MSE  132519912.4050974\n",
            "model 1, train R2  0.8253102302780994\n",
            "model 1, test MSE  536348828.02607244\n",
            "model 1, test R2  0.7531115739874739\n"
          ],
          "name": "stdout"
        }
      ]
    },
    {
      "cell_type": "markdown",
      "metadata": {
        "id": "GbY8m9JkCKRf",
        "colab_type": "text"
      },
      "source": [
        "| model | Model                                        | train MSE    | train R2 | test MSE     | test R2 |\n",
        "|-------|----------------------------------------------|--------------|----------|--------------|---------|\n",
        "| 1     | trips ~ 1                                    | 132519912.40 | 0.8253   | 536348828.02 | 0.7531  |\n",
        "| 2     | trips ~ TMAX + 1                             | 56177112.70  | 0.9259   | 262384900.55 | 0.8792  |\n",
        "| 3     | trips ~ n_stations + TMAX + 1                | 42644787.53  | 0.9437   | 80761363.77  | 0.9628  |\n",
        "| 4     | trips ~ month + n_stations + TMAX + 1        | 33595578.73  | 0.9557   | 72340656.17  | 0.9667  |\n",
        "| 5     | trips ~ PRCP + month + n_stations + TMAX + 1 | 26548558.88  | 0.9650   | 63018038.77  | 0.9709  |\n"
      ]
    },
    {
      "cell_type": "markdown",
      "metadata": {
        "id": "8j3FvSKcDdrm",
        "colab_type": "text"
      },
      "source": [
        "Model 5 gives the best fit on the training set, as well as on the training set based on $R^2$ and MSE. \n",
        "The data is pretty clean and forward selection worked well."
      ]
    },
    {
      "cell_type": "markdown",
      "metadata": {
        "id": "6pUmIWsaxgCb",
        "colab_type": "text"
      },
      "source": [
        "## Part d: KNN Classification\n",
        "\n",
        "Now we will transform the outcome variable to allow us to do classification. Create a new vector $Y$ with entries:\n",
        "$$\n",
        "Y[i] = \\mathbf{1} \\{ \\textrm{trips}[i] > \\textrm{median}(trips) \\}\n",
        "$$\n",
        "\n",
        "Use the median of the variable from the full data (training and test combined). After computing\n",
        "the binary outcome variable $Y$, you should drop the original trips variable from the data."
      ]
    },
    {
      "cell_type": "markdown",
      "metadata": {
        "id": "HnqpBMfLxgCb",
        "colab_type": "text"
      },
      "source": [
        "#### 5 pts"
      ]
    },
    {
      "cell_type": "code",
      "metadata": {
        "id": "L6cac-ShxgCc",
        "colab_type": "code",
        "colab": {}
      },
      "source": [
        "#y = something - the median of something (the function looks a lot like np.mean)\n",
        "trips_med = np.median(merged_all_drop['trips'])\n",
        "y_train = merged_train_drop['trips'] > trips_med\n",
        "y_test = merged_test_drop['trips'] > trips_med\n",
        "#drop the original trips column from the train and test set\n",
        "merged_train_drop2 = merged_train_drop.drop(columns=['trips'])\n",
        "merged_test_drop2 = merged_test_drop.drop(columns = ['trips'])\n",
        "#add the above constructed y vector to the respective train and test set\n",
        "merged_train_drop2['trips'] = y_train\n",
        "merged_test_drop2['trips'] = y_test"
      ],
      "execution_count": 43,
      "outputs": []
    },
    {
      "cell_type": "markdown",
      "metadata": {
        "id": "KAdnX1aExgCg",
        "colab_type": "text"
      },
      "source": [
        "Recall that in $k$-nearest neighbors classification, the predicted value $\\hat Y$ of $X$ is \n",
        "the majority vote of the labels for the $k$ nearest neighbors $X_i$ to $X$. We will use the Euclidean distance as our measure of distance between points. Note that the Euclidean distance doesn't make much sense for factor variables, so just drop the predictors that are categorical for this problem. Standardize the numeric predictors so that they have mean zero and constant standard deviation"
      ]
    },
    {
      "cell_type": "markdown",
      "metadata": {
        "id": "yQOn5FHtxgCh",
        "colab_type": "text"
      },
      "source": [
        "#### 5 pts"
      ]
    },
    {
      "cell_type": "code",
      "metadata": {
        "id": "i_KX9whbxgCi",
        "colab_type": "code",
        "colab": {}
      },
      "source": [
        "to_drop = ['month', 'dayofweek']\n",
        "merged_train_drop2 = merged_train_drop2.drop(columns = to_drop)\n",
        "merged_test_drop2 = merged_test_drop2.drop(columns = to_drop)\n",
        "\n",
        "for i in cols_to_loop:\n",
        "  merged_train_drop2[i] = (merged_train_drop2[i] - np.mean(merged_train_drop2[i])) / np.std(merged_train_drop2[i])\n",
        "  merged_test_drop2[i] = (merged_test_drop2[i] - np.mean(merged_train_drop2[i])) / np.std(merged_train_drop2[i])\n",
        "\n",
        "y = merged_train_drop2['trips']\n",
        "y_test = merged_test_drop2['trips']\n",
        "X_train = merged_train_drop2.drop(columns = 'trips')\n",
        "X_test = merged_test_drop2.drop(columns = 'trips')"
      ],
      "execution_count": 44,
      "outputs": []
    },
    {
      "cell_type": "markdown",
      "metadata": {
        "id": "9BlOUDkhxgCk",
        "colab_type": "text"
      },
      "source": [
        "Use the sklearn neighbors library to perform $k$-nearest neighbor classification. Fit a classifier for $k = 1:50$, and find the mis-classification rate on both the training and test sets for each $k$. On a single plot, show the training set error and the test set error as a function of $k$. How would you choose the optimal $k$? Comment on your findings, and in particular on the possibility of overfitting."
      ]
    },
    {
      "cell_type": "markdown",
      "metadata": {
        "id": "y7Mc5u3QxgCk",
        "colab_type": "text"
      },
      "source": [
        "#### 15 pts"
      ]
    },
    {
      "cell_type": "code",
      "metadata": {
        "id": "8xRNlOjtxgCl",
        "colab_type": "code",
        "colab": {}
      },
      "source": [
        "from sklearn.neighbors import KNeighborsClassifier\n",
        "from sklearn.preprocessing import LabelEncoder\n",
        "\n",
        "\n",
        "test_error = []\n",
        "train_error = []\n",
        "for i in range(1, 51):\n",
        "  neigh = KNeighborsClassifier(n_neighbors=i)\n",
        "  neigh.fit(X_train, y)\n",
        "  test_pred = neigh.predict(X_test)\n",
        "  train_pred = neigh.predict(X_train)\n",
        "\n",
        "  train_percent = (train_pred == y).sum() / len(y)\n",
        "  test_percent = (test_pred == y_test).sum() / len(y_test)\n",
        "\n",
        "  train_error.append(1 - train_percent)\n",
        "  test_error.append(1 - test_percent)\n",
        "\n"
      ],
      "execution_count": 45,
      "outputs": []
    },
    {
      "cell_type": "code",
      "metadata": {
        "id": "XHA9UtwvaxLj",
        "colab_type": "code",
        "colab": {
          "base_uri": "https://localhost:8080/",
          "height": 285
        },
        "outputId": "368b2b0f-1cbc-4970-dc64-4c88b29a78ea"
      },
      "source": [
        "k = np.linspace(0, 50, 50)\n",
        "plt.plot(k, train_error, 'r-', label = 'Train Error')\n",
        "plt.plot(k, test_error, 'b-', label = 'Test Error')\n",
        "plt.xlabel('#K neighbors')\n",
        "plt.ylabel('Mis-Classification  Rate')\n",
        "plt.legend()\n",
        "plt.show()\n"
      ],
      "execution_count": 46,
      "outputs": [
        {
          "output_type": "display_data",
          "data": {
            "image/png": "[encoded data removed]",
            "text/plain": [
              "<Figure size 432x288 with 1 Axes>"
            ]
          },
          "metadata": {
            "tags": []
          }
        }
      ]
    },
    {
      "cell_type": "markdown",
      "metadata": {
        "id": "EG9DCyZcxgES",
        "colab_type": "text"
      },
      "source": [
        "#### Your discussion here (5 pts)"
      ]
    },
    {
      "cell_type": "markdown",
      "metadata": {
        "id": "oTcmTTn2eNff",
        "colab_type": "text"
      },
      "source": [
        "To pick an optimal K, I would choose just after where the train error and the test error meet, which seems to be around 7. As the number of K neighbors goes up, it seems the training error also rises. However, the test error rate goes down. This leads me to believe as the number of K neighbors rises, the model starts to underfit. By picking a K that yields an error closest to both the train and test error, we can minimize unexpected behavior from the model. However, as this is a binary classification problem, I expected the error to be a bit lower. This is why I reran the problem in the cell below but shuffling the data, as the original dataset was sorted by the original 'trips' value. The result after shuffling is much closer to what I expected, as the error lines overlap. In this case, it seems that the lower the K number, the better the model performs, and is even at 0.0% error on both the train and test sets at K = 1."
      ]
    },
    {
      "cell_type": "code",
      "metadata": {
        "id": "NU15KwyOxgET",
        "colab_type": "code",
        "colab": {
          "base_uri": "https://localhost:8080/",
          "height": 283
        },
        "outputId": "90a106f8-880c-4664-8c52-273ef3216840"
      },
      "source": [
        "from sklearn.utils import shuffle\n",
        "from sklearn.neighbors import KNeighborsClassifier\n",
        "from sklearn.preprocessing import LabelEncoder\n",
        "\n",
        "trips_med = np.median(merged_all_drop['trips'])\n",
        "y_train = merged_train_drop['trips'] > trips_med\n",
        "y_test = merged_test_drop['trips'] > trips_med\n",
        "\n",
        "merged_train_drop2 = merged_train_drop.drop(columns=['trips'])\n",
        "merged_test_drop2 = merged_test_drop.drop(columns = ['trips'])\n",
        "\n",
        "merged_train_drop2['trips'] = y_train\n",
        "merged_test_drop2['trips'] = y_test\n",
        "\n",
        "to_drop = ['month', 'dayofweek']\n",
        "merged_train_drop2 = merged_train_drop2.drop(columns = to_drop)\n",
        "merged_test_drop2 = merged_test_drop2.drop(columns = to_drop)\n",
        "\n",
        "for i in cols_to_loop:\n",
        "  merged_train_drop2[i] = (merged_train_drop2[i] - np.mean(merged_train_drop2[i])) / np.std(merged_train_drop2[i])\n",
        "  merged_test_drop2[i] = (merged_test_drop2[i] - np.mean(merged_train_drop2[i])) / np.std(merged_train_drop2[i])\n",
        "\n",
        "merged_train_drop2 = shuffle(merged_test_drop2)\n",
        "merged_test_drop2 = shuffle(merged_test_drop2)\n",
        "\n",
        "y = merged_train_drop2['trips']\n",
        "y_test = merged_test_drop2['trips']\n",
        "X_train = merged_train_drop2.drop(columns = 'trips')\n",
        "X_test = merged_test_drop2.drop(columns = 'trips')\n",
        "\n",
        "\n",
        "test_error = []\n",
        "train_error = []\n",
        "for i in range(1, 51):\n",
        "  neigh = KNeighborsClassifier(n_neighbors=i)\n",
        "  neigh.fit(X_train, y)\n",
        "  test_pred = neigh.predict(X_test)\n",
        "  train_pred = neigh.predict(X_train)\n",
        "\n",
        "  train_percent = (train_pred == y).sum() / len(y)\n",
        "  test_percent = (test_pred == y_test).sum() / len(y_test)\n",
        "\n",
        "  train_error.append(1 - train_percent)\n",
        "  test_error.append(1 - test_percent)\n",
        "\n",
        "k = np.linspace(1, 51, 50)\n",
        "plt.plot(k, train_error, 'r-', label = 'Train Error')\n",
        "plt.plot(k, test_error, 'b-', label = 'Test Error')\n",
        "plt.xlabel('#K neighbors')\n",
        "plt.ylabel('Mis-Classification  Rate')\n",
        "plt.legend()\n",
        "plt.show()\n"
      ],
      "execution_count": 47,
      "outputs": [
        {
          "output_type": "display_data",
          "data": {
            "image/png": "[encoded data removed]",
            "text/plain": [
              "<Figure size 432x288 with 1 Axes>"
            ]
          },
          "metadata": {
            "tags": []
          }
        }
      ]
    },
    {
      "cell_type": "code",
      "metadata": {
        "id": "5vwj_SY5i1CX",
        "colab_type": "code",
        "colab": {
          "base_uri": "https://localhost:8080/",
          "height": 32
        },
        "outputId": "d69e063f-b44d-49f7-82a5-d724de53a00d"
      },
      "source": [
        "train_error[0]"
      ],
      "execution_count": 48,
      "outputs": [
        {
          "output_type": "execute_result",
          "data": {
            "text/plain": [
              "0.0"
            ]
          },
          "metadata": {
            "tags": []
          },
          "execution_count": 48
        }
      ]
    },
    {
      "cell_type": "code",
      "metadata": {
        "id": "atxQG6f-kOY-",
        "colab_type": "code",
        "colab": {
          "base_uri": "https://localhost:8080/",
          "height": 32
        },
        "outputId": "11c1e57f-65b2-4213-aa0a-ccac4eb3b068"
      },
      "source": [
        "test_error[0]"
      ],
      "execution_count": 49,
      "outputs": [
        {
          "output_type": "execute_result",
          "data": {
            "text/plain": [
              "0.0"
            ]
          },
          "metadata": {
            "tags": []
          },
          "execution_count": 49
        }
      ]
    },
    {
      "cell_type": "code",
      "metadata": {
        "id": "OGfL-evIkQLZ",
        "colab_type": "code",
        "colab": {}
      },
      "source": [
        ""
      ],
      "execution_count": 49,
      "outputs": []
    }
  ]
}