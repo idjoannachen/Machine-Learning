{
  "nbformat": 4,
  "nbformat_minor": 0,
  "metadata": {
    "kernelspec": {
      "display_name": "Python 3",
      "language": "python",
      "name": "python3"
    },
    "language_info": {
      "codemirror_mode": {
        "name": "ipython",
        "version": 3
      },
      "file_extension": ".py",
      "mimetype": "text/x-python",
      "name": "python",
      "nbconvert_exporter": "python",
      "pygments_lexer": "ipython3",
      "version": "3.7.4"
    },
    "colab": {
      "name": "HW 4 coding.ipynb",
      "provenance": [],
      "collapsed_sections": []
    }
  },
  "cells": [
    {
      "cell_type": "markdown",
      "metadata": {
        "id": "hi3eJyNOfm1_"
      },
      "source": [
        "# HW 4 coding part"
      ]
    },
    {
      "cell_type": "markdown",
      "metadata": {
        "id": "rc_sq6Dgfm2A"
      },
      "source": [
        "Due 11/08/2020"
      ]
    },
    {
      "cell_type": "code",
      "metadata": {
        "id": "da7ReIX2fm2A"
      },
      "source": [
        "import numpy as np\n",
        "import pandas as pd\n",
        "from sklearn.ensemble import GradientBoostingRegressor as gbr\n",
        "import matplotlib.pyplot as plt"
      ],
      "execution_count": null,
      "outputs": []
    },
    {
      "cell_type": "markdown",
      "metadata": {
        "id": "NG1Ib8jCfm2D"
      },
      "source": [
        "We have imported the sklearn.ensemble package for boosting. But generally I've found the xgboost implementation to be amazing. However, that would take installing an additional package and I don't want to impose that on anybody."
      ]
    },
    {
      "cell_type": "markdown",
      "metadata": {
        "id": "1bzf-OzTfm2E"
      },
      "source": [
        "# Boosting"
      ]
    },
    {
      "cell_type": "code",
      "metadata": {
        "id": "Jxkbxkkpfm2E"
      },
      "source": [
        "n=100\n",
        "sig=0.5\n",
        "x = 4*np.random.rand(n,1)\n",
        "y = np.sin(x[:,0]*4)+sig*np.random.randn(n)\n",
        "xtest = np.arange(0,4,0.01)[:,None] ##adding dummy dimension for sklearn method\n",
        "ytest = np.sin(4*xtest[:,0]) + sig*np.random.randn(xtest.shape[0])"
      ],
      "execution_count": null,
      "outputs": []
    },
    {
      "cell_type": "code",
      "metadata": {
        "id": "XxFQq36hfm2G",
        "outputId": "60adb9cf-fb43-4e57-ce34-8faa946b951b",
        "colab": {
          "base_uri": "https://localhost:8080/",
          "height": 282
        }
      },
      "source": [
        "plt.plot(xtest,ytest,'.')"
      ],
      "execution_count": null,
      "outputs": [
        {
          "output_type": "execute_result",
          "data": {
            "text/plain": [
              "[<matplotlib.lines.Line2D at 0x7fa434fb6f98>]"
            ]
          },
          "metadata": {
            "tags": []
          },
          "execution_count": 4
        },
        {
          "output_type": "display_data",
          "data": {
            "image/png": "[encoded data removed]",
            "text/plain": [
              "<Figure size 432x288 with 1 Axes>"
            ]
          },
          "metadata": {
            "tags": [],
            "needs_background": "light"
          }
        }
      ]
    },
    {
      "cell_type": "markdown",
      "metadata": {
        "id": "4sXLHDktfm2J"
      },
      "source": [
        "## setting params"
      ]
    },
    {
      "cell_type": "markdown",
      "metadata": {
        "id": "ItVaSsCGfm2J"
      },
      "source": [
        "We will set our parameters in a dictionary. A dictionary is a key, value pair in python. Keys can be an hashable type: e.g. numbers, strings, tuples, but not lists."
      ]
    },
    {
      "cell_type": "code",
      "metadata": {
        "id": "2bcNtXNyfm2J"
      },
      "source": [
        "# {(1,[2]):1}"
      ],
      "execution_count": null,
      "outputs": []
    },
    {
      "cell_type": "code",
      "metadata": {
        "id": "Uy3zMI3Rfm2L"
      },
      "source": [
        "params = {'n_estimators': 1000,\n",
        "          'max_depth': 7,\n",
        "          'min_samples_split': 5,\n",
        "          'learning_rate': 0.01,\n",
        "          'loss': 'ls'}"
      ],
      "execution_count": null,
      "outputs": []
    },
    {
      "cell_type": "code",
      "metadata": {
        "id": "iWuDtwoAfm2N",
        "outputId": "c8c0b9e2-51d6-4405-bbee-924defa1f420",
        "colab": {
          "base_uri": "https://localhost:8080/"
        }
      },
      "source": [
        "params['max_depth']"
      ],
      "execution_count": null,
      "outputs": [
        {
          "output_type": "execute_result",
          "data": {
            "text/plain": [
              "7"
            ]
          },
          "metadata": {
            "tags": []
          },
          "execution_count": 7
        }
      ]
    },
    {
      "cell_type": "code",
      "metadata": {
        "id": "gkvKt3g0fm2P"
      },
      "source": [
        "reg = gbr(**params) ##can pass keyword parameters as a dictionary using **"
      ],
      "execution_count": null,
      "outputs": []
    },
    {
      "cell_type": "code",
      "metadata": {
        "id": "L06gT0Wvfm2R",
        "outputId": "33b20040-6d50-48db-b9fc-58e26cb739bb",
        "colab": {
          "base_uri": "https://localhost:8080/"
        }
      },
      "source": [
        "reg.fit(x,y)"
      ],
      "execution_count": null,
      "outputs": [
        {
          "output_type": "execute_result",
          "data": {
            "text/plain": [
              "GradientBoostingRegressor(alpha=0.9, ccp_alpha=0.0, criterion='friedman_mse',\n",
              "                          init=None, learning_rate=0.01, loss='ls', max_depth=7,\n",
              "                          max_features=None, max_leaf_nodes=None,\n",
              "                          min_impurity_decrease=0.0, min_impurity_split=None,\n",
              "                          min_samples_leaf=1, min_samples_split=5,\n",
              "                          min_weight_fraction_leaf=0.0, n_estimators=1000,\n",
              "                          n_iter_no_change=None, presort='deprecated',\n",
              "                          random_state=None, subsample=1.0, tol=0.0001,\n",
              "                          validation_fraction=0.1, verbose=0, warm_start=False)"
            ]
          },
          "metadata": {
            "tags": []
          },
          "execution_count": 9
        }
      ]
    },
    {
      "cell_type": "code",
      "metadata": {
        "id": "wn9Op4rtfm2T",
        "outputId": "d7d40606-9dee-4101-9481-6400360681a3",
        "colab": {
          "base_uri": "https://localhost:8080/"
        }
      },
      "source": [
        "reg.loss_(ytest,reg.predict(xtest))"
      ],
      "execution_count": null,
      "outputs": [
        {
          "output_type": "execute_result",
          "data": {
            "text/plain": [
              "0.4766472346792215"
            ]
          },
          "metadata": {
            "tags": []
          },
          "execution_count": 10
        }
      ]
    },
    {
      "cell_type": "code",
      "metadata": {
        "id": "aQK3DcuDfm2U",
        "outputId": "7a7536d3-7d33-417b-f6d7-5ce71fd9c355",
        "colab": {
          "base_uri": "https://localhost:8080/"
        }
      },
      "source": [
        "np.linalg.norm(ytest-reg.predict(xtest))**2/ytest.shape[0]"
      ],
      "execution_count": null,
      "outputs": [
        {
          "output_type": "execute_result",
          "data": {
            "text/plain": [
              "0.47664723467922165"
            ]
          },
          "metadata": {
            "tags": []
          },
          "execution_count": 11
        }
      ]
    },
    {
      "cell_type": "markdown",
      "metadata": {
        "id": "IOlrC59Qfm2W"
      },
      "source": [
        "We can plot the training and test error as iterations vary."
      ]
    },
    {
      "cell_type": "code",
      "metadata": {
        "id": "TXXXLOcUfm2W"
      },
      "source": [
        "test_mse_iteration = [reg.loss_(ytest,ypred) for ypred in reg.staged_predict(xtest)]"
      ],
      "execution_count": null,
      "outputs": []
    },
    {
      "cell_type": "code",
      "metadata": {
        "id": "tCFWkQzJfm2Y"
      },
      "source": [
        "train_mse_iteration = [reg.loss_(y,ypred) for ypred in reg.staged_predict(x)]"
      ],
      "execution_count": null,
      "outputs": []
    },
    {
      "cell_type": "code",
      "metadata": {
        "id": "n5m-9Nedfm2a",
        "outputId": "fcbafe67-6438-4b75-ea11-12ff7efa0502",
        "colab": {
          "base_uri": "https://localhost:8080/",
          "height": 282
        }
      },
      "source": [
        "plt.plot(test_mse_iteration,'red')\n",
        "plt.plot(train_mse_iteration,'blue')"
      ],
      "execution_count": null,
      "outputs": [
        {
          "output_type": "execute_result",
          "data": {
            "text/plain": [
              "[<matplotlib.lines.Line2D at 0x7fa434acb710>]"
            ]
          },
          "metadata": {
            "tags": []
          },
          "execution_count": 14
        },
        {
          "output_type": "display_data",
          "data": {
            "image/png": "[encoded data removed]",
            "text/plain": [
              "<Figure size 432x288 with 1 Axes>"
            ]
          },
          "metadata": {
            "tags": [],
            "needs_background": "light"
          }
        }
      ]
    },
    {
      "cell_type": "code",
      "metadata": {
        "id": "jlnblwLxfm2c",
        "outputId": "d090c49b-6b25-4fc4-8a01-edc161ecd8c9",
        "colab": {
          "base_uri": "https://localhost:8080/",
          "height": 282
        }
      },
      "source": [
        "plt.plot(xtest,reg.predict(xtest))"
      ],
      "execution_count": null,
      "outputs": [
        {
          "output_type": "execute_result",
          "data": {
            "text/plain": [
              "[<matplotlib.lines.Line2D at 0x7fa434a026a0>]"
            ]
          },
          "metadata": {
            "tags": []
          },
          "execution_count": 15
        },
        {
          "output_type": "display_data",
          "data": {
            "image/png": "[encoded data removed]",
            "text/plain": [
              "<Figure size 432x288 with 1 Axes>"
            ]
          },
          "metadata": {
            "tags": [],
            "needs_background": "light"
          }
        }
      ]
    },
    {
      "cell_type": "markdown",
      "metadata": {
        "id": "m5NMM2E7fm2e"
      },
      "source": [
        "# Problem 1"
      ]
    },
    {
      "cell_type": "markdown",
      "metadata": {
        "id": "s_t6sGzffm2e"
      },
      "source": [
        "Without retraining, what is the test error for our learned function after $42$ trees are added to the boosted tree?"
      ]
    },
    {
      "cell_type": "markdown",
      "metadata": {
        "id": "AbRj-_JRfm2e"
      },
      "source": [
        "Reminder:"
      ]
    },
    {
      "cell_type": "code",
      "metadata": {
        "id": "hVQUDdwifm2f",
        "outputId": "3716e53c-731d-43ca-bc61-481f5aa47de4",
        "colab": {
          "base_uri": "https://localhost:8080/"
        }
      },
      "source": [
        "reg.loss_(ytest,reg.predict(xtest))"
      ],
      "execution_count": null,
      "outputs": [
        {
          "output_type": "execute_result",
          "data": {
            "text/plain": [
              "0.4766472346792215"
            ]
          },
          "metadata": {
            "tags": []
          },
          "execution_count": 16
        }
      ]
    },
    {
      "cell_type": "code",
      "metadata": {
        "id": "b2DA4lfffm2g",
        "outputId": "c05fd871-d290-4ba3-d997-4847ce8866d5",
        "colab": {
          "base_uri": "https://localhost:8080/"
        }
      },
      "source": [
        "something_here=41 #??\n",
        "test_mse_iteration[something_here]"
      ],
      "execution_count": null,
      "outputs": [
        {
          "output_type": "execute_result",
          "data": {
            "text/plain": [
              "0.46409685439512544"
            ]
          },
          "metadata": {
            "tags": []
          },
          "execution_count": 17
        }
      ]
    },
    {
      "cell_type": "markdown",
      "metadata": {
        "id": "Y0fJphOcfm2i"
      },
      "source": [
        "# Problem 2"
      ]
    },
    {
      "cell_type": "markdown",
      "metadata": {
        "id": "00VE-ETUfm2i"
      },
      "source": [
        "Now we will produce similar plots for different values of the learning rate"
      ]
    },
    {
      "cell_type": "code",
      "metadata": {
        "id": "-ALXt2jvfm2j"
      },
      "source": [
        "learning_rate_list = [0.005,0.01,0.05,0.1,0.5]"
      ],
      "execution_count": null,
      "outputs": []
    },
    {
      "cell_type": "code",
      "metadata": {
        "id": "xLS0T188fm2k"
      },
      "source": [
        "newplot = [] ##format should be that each entry is a tuple (test_error,train_error)\n",
        "for lr in learning_rate_list:\n",
        "    params['learning_rate'] = lr ##fill your answer\n",
        "    reg = gbr(**params)\n",
        "    reg.fit(x,y)\n",
        "    test_error = [reg.loss_(ytest,ypred) for ypred in reg.staged_predict(xtest)]\n",
        "    train_error = [reg.loss_(y,ypred) for ypred in reg.staged_predict(x)]\n",
        "    newplot.append((test_error, train_error)) #??"
      ],
      "execution_count": null,
      "outputs": []
    },
    {
      "cell_type": "code",
      "metadata": {
        "id": "npD2HT09fm2m",
        "outputId": "c5deac42-a737-486d-ab16-361965669aee",
        "colab": {
          "base_uri": "https://localhost:8080/",
          "height": 265
        }
      },
      "source": [
        "for k in newplot:\n",
        "    plt.plot(k[0],'red')\n",
        "    plt.plot(k[1],'blue')"
      ],
      "execution_count": null,
      "outputs": [
        {
          "output_type": "display_data",
          "data": {
            "image/png": "[encoded data removed]",
            "text/plain": [
              "<Figure size 432x288 with 1 Axes>"
            ]
          },
          "metadata": {
            "tags": [],
            "needs_background": "light"
          }
        }
      ]
    },
    {
      "cell_type": "markdown",
      "metadata": {
        "id": "WE78QyZ8fm2n"
      },
      "source": [
        "## What do you observe?"
      ]
    },
    {
      "cell_type": "markdown",
      "metadata": {
        "id": "nru_jFWZfm2o"
      },
      "source": [
        "In the plot above I observe that as the train error approaches zero, the test error also starts to lower. However, the lowest value seems to only be around 0.4 for the test error, whereas the train error is close to 0. This could be overfitting the data, as the model performs very well on the training data, but on the test data it doesn't seem to perform extremely well."
      ]
    },
    {
      "cell_type": "markdown",
      "metadata": {
        "id": "8q7gkGadfm2o"
      },
      "source": [
        "# Problem 3"
      ]
    },
    {
      "cell_type": "markdown",
      "metadata": {
        "id": "ZiYkSjrLfm2o"
      },
      "source": [
        "In this problem we will use 5-fold cross validation to pick the tree depth"
      ]
    },
    {
      "cell_type": "code",
      "metadata": {
        "id": "2t4hbyGPfm2o"
      },
      "source": [
        "tree_depth_choices = np.arange(1,9)"
      ],
      "execution_count": null,
      "outputs": []
    },
    {
      "cell_type": "code",
      "metadata": {
        "id": "boXJJ3tDfm2s"
      },
      "source": [
        "from sklearn.model_selection import KFold"
      ],
      "execution_count": null,
      "outputs": []
    },
    {
      "cell_type": "code",
      "metadata": {
        "id": "98bCm1RNfm2u"
      },
      "source": [
        "def cvfunc(x,y,params,folds=5):\n",
        "    \"\"\"\n",
        "    x is the data: x.shape=(num_rows,num_dimensions)\n",
        "    y is value: y.shape=(num_rows,)\n",
        "    params is a dictionary of the parameters\n",
        "    \"\"\"\n",
        "    kf = KFold(n_splits=folds,shuffle=True) ##default for shuffle is False, depends on your situation if you need it\n",
        "    kf.get_n_splits(x)\n",
        "    cv_error = list()\n",
        "    for train_index, test_index in kf.split(x):\n",
        "        reg = gbr(**params)\n",
        "        reg.fit(x[train_index],y[train_index])\n",
        "        cv_error.append(reg.loss_(y[test_index],reg.predict(x[test_index])) * len(test_index) / len(x))\n",
        "    return np.sum(cv_error) ##but the correct answer here"
      ],
      "execution_count": null,
      "outputs": []
    },
    {
      "cell_type": "code",
      "metadata": {
        "id": "9uA-ssUDfm2w"
      },
      "source": [
        "params = {'n_estimators': 500,\n",
        "          'max_depth': 7,\n",
        "          'min_samples_split': 5,\n",
        "          'learning_rate': 0.01,\n",
        "          'loss': 'ls'}"
      ],
      "execution_count": null,
      "outputs": []
    },
    {
      "cell_type": "code",
      "metadata": {
        "id": "DxQvbvJWfm2y"
      },
      "source": [
        "tree_error = list()\n",
        "for treedepth in tree_depth_choices:\n",
        "    params['max_depth']=treedepth\n",
        "    tree_error.append(cvfunc(x,y,params))"
      ],
      "execution_count": null,
      "outputs": []
    },
    {
      "cell_type": "code",
      "metadata": {
        "id": "g1gr3p1Sfm20"
      },
      "source": [
        "best_tree = tree_depth_choices[np.argmin(tree_error)]"
      ],
      "execution_count": null,
      "outputs": []
    },
    {
      "cell_type": "code",
      "metadata": {
        "id": "X6FW769Bfm21"
      },
      "source": [
        "params['max_depth']=best_tree"
      ],
      "execution_count": null,
      "outputs": []
    },
    {
      "cell_type": "code",
      "metadata": {
        "id": "Kht8JRIgfm23"
      },
      "source": [
        "true_tree_error=list()\n",
        "for treedepth in tree_depth_choices:\n",
        "    params['max_depth'] = treedepth\n",
        "    reg = gbr(**params)\n",
        "    reg.fit(x,y)\n",
        "    true_tree_error.append(reg.loss_(ytest,reg.predict(xtest)))"
      ],
      "execution_count": null,
      "outputs": []
    },
    {
      "cell_type": "markdown",
      "metadata": {
        "id": "399FAG8_fm24"
      },
      "source": [
        "## Plot the cv error and the true tree error on the same plot against tree_depth_choices"
      ]
    },
    {
      "cell_type": "code",
      "metadata": {
        "id": "t7HFKB8ufm25",
        "outputId": "74f0166b-86cc-46d7-d630-3cca99e0bdca",
        "colab": {
          "base_uri": "https://localhost:8080/",
          "height": 282
        }
      },
      "source": [
        "plt.plot(tree_depth_choices,tree_error,color='red')\n",
        "plt.plot(tree_depth_choices,true_tree_error,color='blue')"
      ],
      "execution_count": null,
      "outputs": [
        {
          "output_type": "execute_result",
          "data": {
            "text/plain": [
              "[<matplotlib.lines.Line2D at 0x7fa433f63240>]"
            ]
          },
          "metadata": {
            "tags": []
          },
          "execution_count": 53
        },
        {
          "output_type": "display_data",
          "data": {
            "image/png": "[encoded data removed]",
            "text/plain": [
              "<Figure size 432x288 with 1 Axes>"
            ]
          },
          "metadata": {
            "tags": [],
            "needs_background": "light"
          }
        }
      ]
    },
    {
      "cell_type": "markdown",
      "metadata": {
        "id": "KWIeOrtifm26"
      },
      "source": [
        "I won't assign this, but try the same exercise using the MIST dataset, or your favoriate dataset. Also, I suggest experimenting with the dataset we generated above and vary the noise level as well as the number of observations to get a sense of the types of functions boosting will learn."
      ]
    },
    {
      "cell_type": "code",
      "metadata": {
        "id": "fTCRCT_dfm26"
      },
      "source": [
        ""
      ],
      "execution_count": null,
      "outputs": []
    }
  ]
}